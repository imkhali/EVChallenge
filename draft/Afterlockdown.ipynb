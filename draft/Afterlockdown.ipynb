{
 "cells": [
  {
   "cell_type": "markdown",
   "metadata": {},
   "source": [
    "# Requirement: Predict whether a household has an EV"
   ]
  },
  {
   "cell_type": "markdown",
   "metadata": {},
   "source": [
    "## 1. Import libraries"
   ]
  },
  {
   "cell_type": "code",
   "execution_count": null,
   "metadata": {},
   "outputs": [
    {
     "ename": "",
     "evalue": "",
     "output_type": "error",
     "traceback": [
      "\u001b[1;31mFailed to start the Kernel. \n",
      "Canceled. \n",
      "View Jupyter <a href='command:jupyter.viewOutput'>log</a> for further details."
     ]
    }
   ],
   "source": [
    "%pip install plotly\n",
    "%pip install pandas\n",
    "%pip install numpy\n",
    "%pip install matplotlib\n",
    "%pip install seaborn\n",
    "%pip install openpyxl"
   ]
  },
  {
   "cell_type": "code",
   "execution_count": 1,
   "metadata": {},
   "outputs": [],
   "source": [
    "# from helpers import *\n",
    "from datetime import datetime, date\n",
    "import pandas as pd\n",
    "import numpy as np\n",
    "import matplotlib.pyplot as plt\n",
    "import matplotlib.dates as mdates\n",
    "import plotly.express as px\n",
    "import seaborn as sns\n",
    "sns.set()\n",
    "\n",
    "\n",
    "pd.set_option('display.max_rows', 1000)"
   ]
  },
  {
   "cell_type": "markdown",
   "metadata": {},
   "source": [
    "## 2. Import data\n",
    "(note, loaded data from November 2021 as data is quite big and cannot be loaded at once)"
   ]
  },
  {
   "cell_type": "code",
   "execution_count": 18,
   "metadata": {},
   "outputs": [],
   "source": [
    "def simple_col_name(x):\n",
    "    x = x.lower().strip()\n",
    "    return {'meter_id': 'meter',\n",
    "            'start_timestamptz_ts': 'time',\n",
    "            'interval_ts': 'time',\n",
    "            'active_consumption_kwh': 'consumption',\n",
    "            'active_generation_kwh': 'generation',\n",
    "            'ev make': 'make',\n",
    "            'ev model': 'model',\n",
    "            'ev wall charger installed?': 'charger',\n",
    "            'how many kms do you usually drive each year? \\n(prior to the covid-19 pandemic)': 'drive_kms'\n",
    "            }\\\n",
    "        .setdefault(x, x)\n"
   ]
  },
  {
   "cell_type": "markdown",
   "metadata": {},
   "source": [
    "### EV training data"
   ]
  },
  {
   "cell_type": "code",
   "execution_count": 4,
   "metadata": {},
   "outputs": [
    {
     "data": {
      "text/html": [
       "<div>\n",
       "<style scoped>\n",
       "    .dataframe tbody tr th:only-of-type {\n",
       "        vertical-align: middle;\n",
       "    }\n",
       "\n",
       "    .dataframe tbody tr th {\n",
       "        vertical-align: top;\n",
       "    }\n",
       "\n",
       "    .dataframe thead th {\n",
       "        text-align: right;\n",
       "    }\n",
       "</style>\n",
       "<table border=\"1\" class=\"dataframe\">\n",
       "  <thead>\n",
       "    <tr style=\"text-align: right;\">\n",
       "      <th></th>\n",
       "      <th>meter</th>\n",
       "      <th>make</th>\n",
       "      <th>model</th>\n",
       "      <th>charger</th>\n",
       "      <th>drive_kms</th>\n",
       "      <th>kms_group</th>\n",
       "      <th>has_ev</th>\n",
       "    </tr>\n",
       "  </thead>\n",
       "  <tbody>\n",
       "    <tr>\n",
       "      <th>0</th>\n",
       "      <td>14702</td>\n",
       "      <td>Tesla</td>\n",
       "      <td>Model 3 and Model X</td>\n",
       "      <td>Yes</td>\n",
       "      <td>Greater than 20,000</td>\n",
       "      <td>5</td>\n",
       "      <td>1</td>\n",
       "    </tr>\n",
       "    <tr>\n",
       "      <th>1</th>\n",
       "      <td>21463</td>\n",
       "      <td>Nissan</td>\n",
       "      <td>Leaf</td>\n",
       "      <td>No</td>\n",
       "      <td>5,000 to 10,000</td>\n",
       "      <td>2</td>\n",
       "      <td>1</td>\n",
       "    </tr>\n",
       "    <tr>\n",
       "      <th>2</th>\n",
       "      <td>63317</td>\n",
       "      <td>Nissan</td>\n",
       "      <td>Leaf</td>\n",
       "      <td>No</td>\n",
       "      <td>5,000 to 10,000</td>\n",
       "      <td>2</td>\n",
       "      <td>1</td>\n",
       "    </tr>\n",
       "    <tr>\n",
       "      <th>3</th>\n",
       "      <td>69825</td>\n",
       "      <td>Jaguar</td>\n",
       "      <td>ipace</td>\n",
       "      <td>Yes</td>\n",
       "      <td>10,000 to 15,000</td>\n",
       "      <td>3</td>\n",
       "      <td>1</td>\n",
       "    </tr>\n",
       "    <tr>\n",
       "      <th>4</th>\n",
       "      <td>98536</td>\n",
       "      <td>Jaguar</td>\n",
       "      <td>ipace</td>\n",
       "      <td>No</td>\n",
       "      <td>15,000 to 20,000</td>\n",
       "      <td>4</td>\n",
       "      <td>1</td>\n",
       "    </tr>\n",
       "  </tbody>\n",
       "</table>\n",
       "</div>"
      ],
      "text/plain": [
       "   meter     make                model charger            drive_kms  \\\n",
       "0  14702    Tesla  Model 3 and Model X     Yes  Greater than 20,000   \n",
       "1  21463   Nissan                 Leaf      No      5,000 to 10,000   \n",
       "2  63317  Nissan                  Leaf      No      5,000 to 10,000   \n",
       "3  69825  Jaguar                 ipace     Yes     10,000 to 15,000   \n",
       "4  98536   Jaguar                ipace      No     15,000 to 20,000   \n",
       "\n",
       "   kms_group  has_ev  \n",
       "0          5       1  \n",
       "1          2       1  \n",
       "2          2       1  \n",
       "3          3       1  \n",
       "4          4       1  "
      ]
     },
     "execution_count": 4,
     "metadata": {},
     "output_type": "execute_result"
    }
   ],
   "source": [
    "# Read excel file\n",
    "df_ev_H = pd.read_excel('C:/Users/uft/Deakin University/Islam Khalil - EVChallenge/RawFiles/EV_training_meters_list.xlsx').rename(columns=simple_col_name)\n",
    "\n",
    "# Create a variable equal to 1. All observations in this dataset have EV\n",
    "df_ev_H['has_ev'] = 1\n",
    "\n",
    "# Have a look at the first 5 observations of this dataset\n",
    "df_ev_H.head()\n"
   ]
  },
  {
   "cell_type": "markdown",
   "metadata": {},
   "source": [
    "### Power consumption"
   ]
  },
  {
   "cell_type": "code",
   "execution_count": 22,
   "metadata": {},
   "outputs": [
    {
     "name": "stdout",
     "output_type": "stream",
     "text": [
      "loading: C:/Users/uft/Deakin University/Islam Khalil - EVChallenge/RawFiles/consumption_training_data_oct21.csv\n",
      "loading: C:/Users/uft/Deakin University/Islam Khalil - EVChallenge/RawFiles/consumption_training_data_nov21.csv\n"
     ]
    },
    {
     "data": {
      "text/html": [
       "<div>\n",
       "<style scoped>\n",
       "    .dataframe tbody tr th:only-of-type {\n",
       "        vertical-align: middle;\n",
       "    }\n",
       "\n",
       "    .dataframe tbody tr th {\n",
       "        vertical-align: top;\n",
       "    }\n",
       "\n",
       "    .dataframe thead th {\n",
       "        text-align: right;\n",
       "    }\n",
       "</style>\n",
       "<table border=\"1\" class=\"dataframe\">\n",
       "  <thead>\n",
       "    <tr style=\"text-align: right;\">\n",
       "      <th></th>\n",
       "      <th>meter</th>\n",
       "      <th>element_uuid</th>\n",
       "      <th>time</th>\n",
       "      <th>consumption</th>\n",
       "      <th>generation</th>\n",
       "    </tr>\n",
       "  </thead>\n",
       "  <tbody>\n",
       "    <tr>\n",
       "      <th>0</th>\n",
       "      <td>396</td>\n",
       "      <td>0a6acd53-80f8-4fef-91d0-63b56ff213c5</td>\n",
       "      <td>2021-10-01 10:00:00+10:00</td>\n",
       "      <td>0.1687</td>\n",
       "      <td>NaN</td>\n",
       "    </tr>\n",
       "    <tr>\n",
       "      <th>1</th>\n",
       "      <td>396</td>\n",
       "      <td>0a6acd53-80f8-4fef-91d0-63b56ff213c5</td>\n",
       "      <td>2021-10-01 10:30:00+10:00</td>\n",
       "      <td>0.0937</td>\n",
       "      <td>NaN</td>\n",
       "    </tr>\n",
       "    <tr>\n",
       "      <th>2</th>\n",
       "      <td>396</td>\n",
       "      <td>0a6acd53-80f8-4fef-91d0-63b56ff213c5</td>\n",
       "      <td>2021-10-01 11:00:00+10:00</td>\n",
       "      <td>0.0937</td>\n",
       "      <td>NaN</td>\n",
       "    </tr>\n",
       "    <tr>\n",
       "      <th>3</th>\n",
       "      <td>396</td>\n",
       "      <td>0a6acd53-80f8-4fef-91d0-63b56ff213c5</td>\n",
       "      <td>2021-10-01 11:30:00+10:00</td>\n",
       "      <td>0.0875</td>\n",
       "      <td>NaN</td>\n",
       "    </tr>\n",
       "    <tr>\n",
       "      <th>4</th>\n",
       "      <td>396</td>\n",
       "      <td>0a6acd53-80f8-4fef-91d0-63b56ff213c5</td>\n",
       "      <td>2021-10-01 12:00:00+10:00</td>\n",
       "      <td>0.1187</td>\n",
       "      <td>NaN</td>\n",
       "    </tr>\n",
       "  </tbody>\n",
       "</table>\n",
       "</div>"
      ],
      "text/plain": [
       "   meter                          element_uuid                      time  \\\n",
       "0    396  0a6acd53-80f8-4fef-91d0-63b56ff213c5 2021-10-01 10:00:00+10:00   \n",
       "1    396  0a6acd53-80f8-4fef-91d0-63b56ff213c5 2021-10-01 10:30:00+10:00   \n",
       "2    396  0a6acd53-80f8-4fef-91d0-63b56ff213c5 2021-10-01 11:00:00+10:00   \n",
       "3    396  0a6acd53-80f8-4fef-91d0-63b56ff213c5 2021-10-01 11:30:00+10:00   \n",
       "4    396  0a6acd53-80f8-4fef-91d0-63b56ff213c5 2021-10-01 12:00:00+10:00   \n",
       "\n",
       "   consumption  generation  \n",
       "0       0.1687         NaN  \n",
       "1       0.0937         NaN  \n",
       "2       0.0937         NaN  \n",
       "3       0.0875         NaN  \n",
       "4       0.1187         NaN  "
      ]
     },
     "execution_count": 22,
     "metadata": {},
     "output_type": "execute_result"
    }
   ],
   "source": [
    "# Read csv-formatter consumption data\n",
    "df_consumeH = merge_csvs_into_df2([\"C:/Users/uft/Deakin University/Islam Khalil - EVChallenge/RawFiles/consumption_training_data_oct21.csv\", \n",
    "\"C:/Users/uft/Deakin University/Islam Khalil - EVChallenge/RawFiles/consumption_training_data_nov21.csv\"]).drop(['Unnamed: 0'], axis=1)\n",
    "\n",
    "# Load dates as UTC (whatever timezone of raw data), then convert them to Melbourne's timezone\n",
    "df_consumeH['start_timestamptz_ts'] = pd.to_datetime(df_consumeH['start_timestamptz_ts'],\n",
    "                                                        infer_datetime_format=True, utc=True).dt.tz_convert(melb_tz)\n",
    "\n",
    "# Rename variables\n",
    "df_consumeH = df_consumeH.rename(columns=simple_col_name)\n",
    "\n",
    "# Save data as a csv file\n",
    "df_consumeH.to_csv('df_consumeH.csv')\n",
    "\n",
    "df_consumeH.head()"
   ]
  },
  {
   "cell_type": "code",
   "execution_count": 23,
   "metadata": {},
   "outputs": [
    {
     "data": {
      "text/html": [
       "<div>\n",
       "<style scoped>\n",
       "    .dataframe tbody tr th:only-of-type {\n",
       "        vertical-align: middle;\n",
       "    }\n",
       "\n",
       "    .dataframe tbody tr th {\n",
       "        vertical-align: top;\n",
       "    }\n",
       "\n",
       "    .dataframe thead th {\n",
       "        text-align: right;\n",
       "    }\n",
       "</style>\n",
       "<table border=\"1\" class=\"dataframe\">\n",
       "  <thead>\n",
       "    <tr style=\"text-align: right;\">\n",
       "      <th></th>\n",
       "      <th>meter</th>\n",
       "      <th>time</th>\n",
       "      <th>consumption</th>\n",
       "    </tr>\n",
       "  </thead>\n",
       "  <tbody>\n",
       "    <tr>\n",
       "      <th>0</th>\n",
       "      <td>396</td>\n",
       "      <td>2021-10-01 10:00:00+10:00</td>\n",
       "      <td>0.1687</td>\n",
       "    </tr>\n",
       "    <tr>\n",
       "      <th>1</th>\n",
       "      <td>396</td>\n",
       "      <td>2021-10-01 10:30:00+10:00</td>\n",
       "      <td>0.0937</td>\n",
       "    </tr>\n",
       "    <tr>\n",
       "      <th>2</th>\n",
       "      <td>396</td>\n",
       "      <td>2021-10-01 11:00:00+10:00</td>\n",
       "      <td>0.0937</td>\n",
       "    </tr>\n",
       "    <tr>\n",
       "      <th>3</th>\n",
       "      <td>396</td>\n",
       "      <td>2021-10-01 11:30:00+10:00</td>\n",
       "      <td>0.0875</td>\n",
       "    </tr>\n",
       "    <tr>\n",
       "      <th>4</th>\n",
       "      <td>396</td>\n",
       "      <td>2021-10-01 12:00:00+10:00</td>\n",
       "      <td>0.1187</td>\n",
       "    </tr>\n",
       "  </tbody>\n",
       "</table>\n",
       "</div>"
      ],
      "text/plain": [
       "   meter                      time  consumption\n",
       "0    396 2021-10-01 10:00:00+10:00       0.1687\n",
       "1    396 2021-10-01 10:30:00+10:00       0.0937\n",
       "2    396 2021-10-01 11:00:00+10:00       0.0937\n",
       "3    396 2021-10-01 11:30:00+10:00       0.0875\n",
       "4    396 2021-10-01 12:00:00+10:00       0.1187"
      ]
     },
     "execution_count": 23,
     "metadata": {},
     "output_type": "execute_result"
    }
   ],
   "source": [
    "# Sum consumption by meter and time\n",
    "df_consume_reduced = df_consumeH.groupby(['meter', 'time'])['consumption'].sum().reset_index()\n",
    "\n",
    "# See head of that data\n",
    "df_consume_reduced.head()"
   ]
  },
  {
   "cell_type": "code",
   "execution_count": 24,
   "metadata": {},
   "outputs": [],
   "source": [
    "# Merge consumption with EV training data\n",
    "ev_consume = pd.merge(left=df_consume_reduced, right=df_ev_reduced, on='meter', how='outer')\n",
    "ev_consume.head()\n",
    "\n",
    "# Replace missing value with 0\n",
    "ev_consume['has_ev'] = np.where(ev_consume['has_ev'].isna(), 0, 1)\n",
    "ev_consume['charger'] = np.where(ev_consume['charger'].isna(), 0, 1)\n",
    "\n",
    "# Save dataframe to csv\n",
    "ev_consume.to_csv('df_consume_reduced.csv')"
   ]
  },
  {
   "cell_type": "code",
   "execution_count": 25,
   "metadata": {},
   "outputs": [],
   "source": [
    "# Resample data to create consumption of every 5 minutes\n",
    "ev_consume_5 = ev_consume.set_index(['time']).groupby('meter').resample('5T', closed='right', label='right').ffill().drop('meter', axis=1).reset_index()"
   ]
  },
  {
   "cell_type": "markdown",
   "metadata": {},
   "source": [
    "### Power quality"
   ]
  },
  {
   "cell_type": "code",
   "execution_count": 28,
   "metadata": {},
   "outputs": [
    {
     "name": "stdout",
     "output_type": "stream",
     "text": [
      "loading: C:/Users/uft/Deakin University/Islam Khalil - EVChallenge/RawFiles/power_quality_training_data_oct21.csv\n",
      "loading: C:/Users/uft/Deakin University/Islam Khalil - EVChallenge/RawFiles/power_quality_training_data_nov21.csv\n"
     ]
    },
    {
     "data": {
      "text/html": [
       "<div>\n",
       "<style scoped>\n",
       "    .dataframe tbody tr th:only-of-type {\n",
       "        vertical-align: middle;\n",
       "    }\n",
       "\n",
       "    .dataframe tbody tr th {\n",
       "        vertical-align: top;\n",
       "    }\n",
       "\n",
       "    .dataframe thead th {\n",
       "        text-align: right;\n",
       "    }\n",
       "</style>\n",
       "<table border=\"1\" class=\"dataframe\">\n",
       "  <thead>\n",
       "    <tr style=\"text-align: right;\">\n",
       "      <th></th>\n",
       "      <th>meter</th>\n",
       "      <th>channel_cd</th>\n",
       "      <th>time</th>\n",
       "      <th>voltage_lvt</th>\n",
       "      <th>amps_lct</th>\n",
       "      <th>power_factor_pf</th>\n",
       "      <th>number_of_phases</th>\n",
       "      <th>overground_or_underground</th>\n",
       "    </tr>\n",
       "  </thead>\n",
       "  <tbody>\n",
       "    <tr>\n",
       "      <th>0</th>\n",
       "      <td>690991</td>\n",
       "      <td>a</td>\n",
       "      <td>2021-09-30 14:00:00+00:00</td>\n",
       "      <td>244.56</td>\n",
       "      <td>0.711253</td>\n",
       "      <td>-0.942</td>\n",
       "      <td>1</td>\n",
       "      <td>OH</td>\n",
       "    </tr>\n",
       "    <tr>\n",
       "      <th>1</th>\n",
       "      <td>690991</td>\n",
       "      <td>a</td>\n",
       "      <td>2021-09-30 14:05:00+00:00</td>\n",
       "      <td>244.35</td>\n",
       "      <td>0.701382</td>\n",
       "      <td>-0.941</td>\n",
       "      <td>1</td>\n",
       "      <td>OH</td>\n",
       "    </tr>\n",
       "    <tr>\n",
       "      <th>2</th>\n",
       "      <td>690991</td>\n",
       "      <td>a</td>\n",
       "      <td>2021-09-30 14:10:00+00:00</td>\n",
       "      <td>244.83</td>\n",
       "      <td>0.700637</td>\n",
       "      <td>-0.942</td>\n",
       "      <td>1</td>\n",
       "      <td>OH</td>\n",
       "    </tr>\n",
       "    <tr>\n",
       "      <th>3</th>\n",
       "      <td>690991</td>\n",
       "      <td>a</td>\n",
       "      <td>2021-09-30 14:15:00+00:00</td>\n",
       "      <td>245.20</td>\n",
       "      <td>0.710498</td>\n",
       "      <td>-0.943</td>\n",
       "      <td>1</td>\n",
       "      <td>OH</td>\n",
       "    </tr>\n",
       "    <tr>\n",
       "      <th>4</th>\n",
       "      <td>690991</td>\n",
       "      <td>a</td>\n",
       "      <td>2021-09-30 14:20:00+00:00</td>\n",
       "      <td>243.77</td>\n",
       "      <td>0.699575</td>\n",
       "      <td>-0.942</td>\n",
       "      <td>1</td>\n",
       "      <td>OH</td>\n",
       "    </tr>\n",
       "  </tbody>\n",
       "</table>\n",
       "</div>"
      ],
      "text/plain": [
       "    meter channel_cd                      time  voltage_lvt  amps_lct  \\\n",
       "0  690991          a 2021-09-30 14:00:00+00:00       244.56  0.711253   \n",
       "1  690991          a 2021-09-30 14:05:00+00:00       244.35  0.701382   \n",
       "2  690991          a 2021-09-30 14:10:00+00:00       244.83  0.700637   \n",
       "3  690991          a 2021-09-30 14:15:00+00:00       245.20  0.710498   \n",
       "4  690991          a 2021-09-30 14:20:00+00:00       243.77  0.699575   \n",
       "\n",
       "   power_factor_pf  number_of_phases overground_or_underground  \n",
       "0           -0.942                 1                        OH  \n",
       "1           -0.941                 1                        OH  \n",
       "2           -0.942                 1                        OH  \n",
       "3           -0.943                 1                        OH  \n",
       "4           -0.942                 1                        OH  "
      ]
     },
     "execution_count": 28,
     "metadata": {},
     "output_type": "execute_result"
    }
   ],
   "source": [
    "# Read csv-formatter power quality data\n",
    "df_qualityH = merge_csvs_into_df2([\"C:/Users/uft/Deakin University/Islam Khalil - EVChallenge/RawFiles/power_quality_training_data_oct21.csv\", \n",
    "\"C:/Users/uft/Deakin University/Islam Khalil - EVChallenge/RawFiles/power_quality_training_data_nov21.csv\"]).drop(['Unnamed: 0'], axis=1)\n",
    "\n",
    "# Load dates as UTC (whatever timezone of raw data), then convert them to Melbourne's timezone\n",
    "df_qualityH['interval_ts'] = pd.to_datetime(df_qualityH['interval_ts'],\n",
    "                                                 infer_datetime_format=True, utc=True)\n",
    "\n",
    "# Rename variables\n",
    "df_qualityH = df_qualityH.rename(columns=simple_col_name)\n",
    "\n",
    "# Save data as a csv file\n",
    "df_qualityH.to_csv('df_qualityH.csv')\n",
    "\n",
    "df_qualityH.head()"
   ]
  },
  {
   "cell_type": "code",
   "execution_count": 29,
   "metadata": {},
   "outputs": [],
   "source": [
    "# Drop unnecessary variables\n",
    "quality_reduced = df_qualityH.drop( columns=['overground_or_underground'])"
   ]
  },
  {
   "cell_type": "code",
   "execution_count": 30,
   "metadata": {},
   "outputs": [
    {
     "name": "stderr",
     "output_type": "stream",
     "text": [
      "C:\\Users\\uft\\AppData\\Local\\Temp\\ipykernel_16304\\4035094269.py:2: FutureWarning: Setitem-like behavior with mismatched timezones is deprecated and will change in a future version. Instead of raising (or for Index, Series, and DataFrame methods, coercing to object dtype), the value being set (or passed as a fill_value, or inserted) will be cast to the existing DatetimeArray/DatetimeIndex/Series/DataFrame column's timezone. To retain the old behavior, explicitly cast to object dtype before the operation.\n",
      "  ev_consume_quality = pd.merge(left=ev_consume_5, right=quality_reduced, on=['meter', 'time'], how='outer')\n"
     ]
    },
    {
     "data": {
      "text/html": [
       "<div>\n",
       "<style scoped>\n",
       "    .dataframe tbody tr th:only-of-type {\n",
       "        vertical-align: middle;\n",
       "    }\n",
       "\n",
       "    .dataframe tbody tr th {\n",
       "        vertical-align: top;\n",
       "    }\n",
       "\n",
       "    .dataframe thead th {\n",
       "        text-align: right;\n",
       "    }\n",
       "</style>\n",
       "<table border=\"1\" class=\"dataframe\">\n",
       "  <thead>\n",
       "    <tr style=\"text-align: right;\">\n",
       "      <th></th>\n",
       "      <th>meter</th>\n",
       "      <th>time</th>\n",
       "      <th>consumption</th>\n",
       "      <th>charger</th>\n",
       "      <th>has_ev</th>\n",
       "      <th>channel_cd</th>\n",
       "      <th>voltage_lvt</th>\n",
       "      <th>amps_lct</th>\n",
       "      <th>power_factor_pf</th>\n",
       "      <th>number_of_phases</th>\n",
       "    </tr>\n",
       "  </thead>\n",
       "  <tbody>\n",
       "    <tr>\n",
       "      <th>0</th>\n",
       "      <td>396</td>\n",
       "      <td>2021-10-01 10:00:00+10:00</td>\n",
       "      <td>0.1687</td>\n",
       "      <td>0.0</td>\n",
       "      <td>0.0</td>\n",
       "      <td>a</td>\n",
       "      <td>243.25</td>\n",
       "      <td>1.35372</td>\n",
       "      <td>-0.981</td>\n",
       "      <td>1.0</td>\n",
       "    </tr>\n",
       "    <tr>\n",
       "      <th>1</th>\n",
       "      <td>396</td>\n",
       "      <td>2021-10-01 10:05:00+10:00</td>\n",
       "      <td>0.1687</td>\n",
       "      <td>0.0</td>\n",
       "      <td>0.0</td>\n",
       "      <td>a</td>\n",
       "      <td>244.40</td>\n",
       "      <td>1.42857</td>\n",
       "      <td>-0.980</td>\n",
       "      <td>1.0</td>\n",
       "    </tr>\n",
       "    <tr>\n",
       "      <th>2</th>\n",
       "      <td>396</td>\n",
       "      <td>2021-10-01 10:10:00+10:00</td>\n",
       "      <td>0.1687</td>\n",
       "      <td>0.0</td>\n",
       "      <td>0.0</td>\n",
       "      <td>a</td>\n",
       "      <td>239.87</td>\n",
       "      <td>2.94574</td>\n",
       "      <td>0.903</td>\n",
       "      <td>1.0</td>\n",
       "    </tr>\n",
       "    <tr>\n",
       "      <th>3</th>\n",
       "      <td>396</td>\n",
       "      <td>2021-10-01 10:15:00+10:00</td>\n",
       "      <td>0.1687</td>\n",
       "      <td>0.0</td>\n",
       "      <td>0.0</td>\n",
       "      <td>a</td>\n",
       "      <td>240.46</td>\n",
       "      <td>1.48780</td>\n",
       "      <td>-0.984</td>\n",
       "      <td>1.0</td>\n",
       "    </tr>\n",
       "    <tr>\n",
       "      <th>4</th>\n",
       "      <td>396</td>\n",
       "      <td>2021-10-01 10:20:00+10:00</td>\n",
       "      <td>0.1687</td>\n",
       "      <td>0.0</td>\n",
       "      <td>0.0</td>\n",
       "      <td>a</td>\n",
       "      <td>243.59</td>\n",
       "      <td>1.50051</td>\n",
       "      <td>-0.983</td>\n",
       "      <td>1.0</td>\n",
       "    </tr>\n",
       "  </tbody>\n",
       "</table>\n",
       "</div>"
      ],
      "text/plain": [
       "   meter                       time  consumption  charger  has_ev channel_cd  \\\n",
       "0    396  2021-10-01 10:00:00+10:00       0.1687      0.0     0.0          a   \n",
       "1    396  2021-10-01 10:05:00+10:00       0.1687      0.0     0.0          a   \n",
       "2    396  2021-10-01 10:10:00+10:00       0.1687      0.0     0.0          a   \n",
       "3    396  2021-10-01 10:15:00+10:00       0.1687      0.0     0.0          a   \n",
       "4    396  2021-10-01 10:20:00+10:00       0.1687      0.0     0.0          a   \n",
       "\n",
       "   voltage_lvt  amps_lct  power_factor_pf  number_of_phases  \n",
       "0       243.25   1.35372           -0.981               1.0  \n",
       "1       244.40   1.42857           -0.980               1.0  \n",
       "2       239.87   2.94574            0.903               1.0  \n",
       "3       240.46   1.48780           -0.984               1.0  \n",
       "4       243.59   1.50051           -0.983               1.0  "
      ]
     },
     "execution_count": 30,
     "metadata": {},
     "output_type": "execute_result"
    }
   ],
   "source": [
    "# Merge consumption quality data\n",
    "ev_consume_quality = pd.merge(left=ev_consume_5, right=quality_reduced, on=['meter', 'time'], how='outer')\n",
    "ev_consume_quality.head()"
   ]
  },
  {
   "cell_type": "code",
   "execution_count": 65,
   "metadata": {},
   "outputs": [
    {
     "data": {
      "text/plain": [
       "meter                             int64\n",
       "time                             object\n",
       "consumption                     float64\n",
       "charger                         float64\n",
       "has_ev                            int32\n",
       "channel_cd                       object\n",
       "voltage_lvt                     float64\n",
       "amps_lct                        float64\n",
       "power_factor_pf                 float64\n",
       "number_of_phases                float64\n",
       "time2               datetime64[ns, UTC]\n",
       "dtype: object"
      ]
     },
     "execution_count": 65,
     "metadata": {},
     "output_type": "execute_result"
    }
   ],
   "source": [
    "ev_consume_quality.dtypes"
   ]
  },
  {
   "cell_type": "code",
   "execution_count": 66,
   "metadata": {},
   "outputs": [
    {
     "data": {
      "text/html": [
       "<div>\n",
       "<style scoped>\n",
       "    .dataframe tbody tr th:only-of-type {\n",
       "        vertical-align: middle;\n",
       "    }\n",
       "\n",
       "    .dataframe tbody tr th {\n",
       "        vertical-align: top;\n",
       "    }\n",
       "\n",
       "    .dataframe thead th {\n",
       "        text-align: right;\n",
       "    }\n",
       "</style>\n",
       "<table border=\"1\" class=\"dataframe\">\n",
       "  <thead>\n",
       "    <tr style=\"text-align: right;\">\n",
       "      <th></th>\n",
       "      <th>meter</th>\n",
       "      <th>time</th>\n",
       "      <th>consumption</th>\n",
       "      <th>charger</th>\n",
       "      <th>has_ev</th>\n",
       "      <th>channel_cd</th>\n",
       "      <th>voltage_lvt</th>\n",
       "      <th>amps_lct</th>\n",
       "      <th>power_factor_pf</th>\n",
       "      <th>number_of_phases</th>\n",
       "      <th>time2</th>\n",
       "    </tr>\n",
       "  </thead>\n",
       "  <tbody>\n",
       "    <tr>\n",
       "      <th>0</th>\n",
       "      <td>396</td>\n",
       "      <td>2021-10-01 10:00:00+10:00</td>\n",
       "      <td>0.1687</td>\n",
       "      <td>0.0</td>\n",
       "      <td>1</td>\n",
       "      <td>a</td>\n",
       "      <td>243.25</td>\n",
       "      <td>1.35372</td>\n",
       "      <td>-0.981</td>\n",
       "      <td>1.0</td>\n",
       "      <td>2021-10-01 00:00:00+00:00</td>\n",
       "    </tr>\n",
       "    <tr>\n",
       "      <th>1</th>\n",
       "      <td>396</td>\n",
       "      <td>2021-10-01 10:05:00+10:00</td>\n",
       "      <td>0.1687</td>\n",
       "      <td>0.0</td>\n",
       "      <td>1</td>\n",
       "      <td>a</td>\n",
       "      <td>244.40</td>\n",
       "      <td>1.42857</td>\n",
       "      <td>-0.980</td>\n",
       "      <td>1.0</td>\n",
       "      <td>2021-10-01 00:05:00+00:00</td>\n",
       "    </tr>\n",
       "    <tr>\n",
       "      <th>2</th>\n",
       "      <td>396</td>\n",
       "      <td>2021-10-01 10:10:00+10:00</td>\n",
       "      <td>0.1687</td>\n",
       "      <td>0.0</td>\n",
       "      <td>1</td>\n",
       "      <td>a</td>\n",
       "      <td>239.87</td>\n",
       "      <td>2.94574</td>\n",
       "      <td>0.903</td>\n",
       "      <td>1.0</td>\n",
       "      <td>2021-10-01 00:10:00+00:00</td>\n",
       "    </tr>\n",
       "    <tr>\n",
       "      <th>3</th>\n",
       "      <td>396</td>\n",
       "      <td>2021-10-01 10:15:00+10:00</td>\n",
       "      <td>0.1687</td>\n",
       "      <td>0.0</td>\n",
       "      <td>1</td>\n",
       "      <td>a</td>\n",
       "      <td>240.46</td>\n",
       "      <td>1.48780</td>\n",
       "      <td>-0.984</td>\n",
       "      <td>1.0</td>\n",
       "      <td>2021-10-01 00:15:00+00:00</td>\n",
       "    </tr>\n",
       "    <tr>\n",
       "      <th>4</th>\n",
       "      <td>396</td>\n",
       "      <td>2021-10-01 10:20:00+10:00</td>\n",
       "      <td>0.1687</td>\n",
       "      <td>0.0</td>\n",
       "      <td>1</td>\n",
       "      <td>a</td>\n",
       "      <td>243.59</td>\n",
       "      <td>1.50051</td>\n",
       "      <td>-0.983</td>\n",
       "      <td>1.0</td>\n",
       "      <td>2021-10-01 00:20:00+00:00</td>\n",
       "    </tr>\n",
       "  </tbody>\n",
       "</table>\n",
       "</div>"
      ],
      "text/plain": [
       "   meter                       time  consumption  charger  has_ev channel_cd  \\\n",
       "0    396  2021-10-01 10:00:00+10:00       0.1687      0.0       1          a   \n",
       "1    396  2021-10-01 10:05:00+10:00       0.1687      0.0       1          a   \n",
       "2    396  2021-10-01 10:10:00+10:00       0.1687      0.0       1          a   \n",
       "3    396  2021-10-01 10:15:00+10:00       0.1687      0.0       1          a   \n",
       "4    396  2021-10-01 10:20:00+10:00       0.1687      0.0       1          a   \n",
       "\n",
       "   voltage_lvt  amps_lct  power_factor_pf  number_of_phases  \\\n",
       "0       243.25   1.35372           -0.981               1.0   \n",
       "1       244.40   1.42857           -0.980               1.0   \n",
       "2       239.87   2.94574            0.903               1.0   \n",
       "3       240.46   1.48780           -0.984               1.0   \n",
       "4       243.59   1.50051           -0.983               1.0   \n",
       "\n",
       "                      time2  \n",
       "0 2021-10-01 00:00:00+00:00  \n",
       "1 2021-10-01 00:05:00+00:00  \n",
       "2 2021-10-01 00:10:00+00:00  \n",
       "3 2021-10-01 00:15:00+00:00  \n",
       "4 2021-10-01 00:20:00+00:00  "
      ]
     },
     "execution_count": 66,
     "metadata": {},
     "output_type": "execute_result"
    }
   ],
   "source": [
    "ev_consume_quality.head()"
   ]
  },
  {
   "cell_type": "code",
   "execution_count": null,
   "metadata": {},
   "outputs": [],
   "source": [
    "ev_consume_quality.to_csv('ev_consume_quality.csv')"
   ]
  },
  {
   "cell_type": "code",
   "execution_count": 33,
   "metadata": {},
   "outputs": [],
   "source": [
    "ev_consume_quality['time2'] = pd.to_datetime(ev_consume_quality['time'], utc=True)"
   ]
  },
  {
   "cell_type": "markdown",
   "metadata": {},
   "source": [
    "## XGBoost"
   ]
  },
  {
   "cell_type": "markdown",
   "metadata": {},
   "source": [
    "### Install package"
   ]
  },
  {
   "cell_type": "code",
   "execution_count": null,
   "metadata": {},
   "outputs": [],
   "source": [
    "pip install xgboost\n",
    "pip install --upgrade xgboost\n",
    "pip install sklearn"
   ]
  },
  {
   "cell_type": "code",
   "execution_count": 1,
   "metadata": {},
   "outputs": [],
   "source": [
    "import pandas as pd # load and manipulate data for One-Hot Coding\n",
    "import numpy as np # calculate the mean and standard deviation\n",
    "import xgboost as xgb #XGBoost stuff\n",
    "from sklearn.model_selection import train_test_split # split data into training and testing sets\n",
    "from sklearn.metrics import balanced_accuracy_score, roc_auc_score, make_scorer # for scoring during\n",
    "from sklearn.model_selection import GridSearchCV # cross validation\n",
    "from sklearn.metrics import confusion_matrix # creates a confusion matrix\n",
    "from sklearn.metrics import plot_confusion_matrix # draw a confution matrix"
   ]
  },
  {
   "cell_type": "markdown",
   "metadata": {},
   "source": [
    "### Preliminary Xgboost model"
   ]
  },
  {
   "cell_type": "code",
   "execution_count": 3,
   "metadata": {},
   "outputs": [],
   "source": [
    "import csv"
   ]
  },
  {
   "cell_type": "code",
   "execution_count": 17,
   "metadata": {
    "scrolled": false
   },
   "outputs": [
    {
     "data": {
      "text/html": [
       "<div>\n",
       "<style scoped>\n",
       "    .dataframe tbody tr th:only-of-type {\n",
       "        vertical-align: middle;\n",
       "    }\n",
       "\n",
       "    .dataframe tbody tr th {\n",
       "        vertical-align: top;\n",
       "    }\n",
       "\n",
       "    .dataframe thead th {\n",
       "        text-align: right;\n",
       "    }\n",
       "</style>\n",
       "<table border=\"1\" class=\"dataframe\">\n",
       "  <thead>\n",
       "    <tr style=\"text-align: right;\">\n",
       "      <th></th>\n",
       "      <th>meter</th>\n",
       "      <th>raw_consumption_mean_2021-11-07</th>\n",
       "      <th>raw_consumption_mean_2021-11-14</th>\n",
       "      <th>raw_consumption_mean_2021-11-21</th>\n",
       "      <th>raw_consumption_mean_2021-11-28</th>\n",
       "      <th>raw_consumption_mean_2021-12-05</th>\n",
       "      <th>cons_above_80_sum_2021-11-07</th>\n",
       "      <th>cons_above_80_sum_2021-11-14</th>\n",
       "      <th>cons_above_80_sum_2021-11-21</th>\n",
       "      <th>cons_above_80_sum_2021-11-28</th>\n",
       "      <th>...</th>\n",
       "      <th>amps_above_80_sum_2021-11-21</th>\n",
       "      <th>amps_above_80_sum_2021-11-28</th>\n",
       "      <th>amps_above_80_sum_2021-12-05</th>\n",
       "      <th>amps_coeff_var_2021-11-07</th>\n",
       "      <th>amps_coeff_var_2021-11-14</th>\n",
       "      <th>amps_coeff_var_2021-11-21</th>\n",
       "      <th>amps_coeff_var_2021-11-28</th>\n",
       "      <th>amps_coeff_var_2021-12-05</th>\n",
       "      <th>phases_2021-11-07</th>\n",
       "      <th>has_ev_2021-11-07</th>\n",
       "    </tr>\n",
       "  </thead>\n",
       "  <tbody>\n",
       "    <tr>\n",
       "      <th>0</th>\n",
       "      <td>396</td>\n",
       "      <td>0.084402</td>\n",
       "      <td>0.136256</td>\n",
       "      <td>0.093388</td>\n",
       "      <td>0.086013</td>\n",
       "      <td>NaN</td>\n",
       "      <td>6.0</td>\n",
       "      <td>30.0</td>\n",
       "      <td>2.0</td>\n",
       "      <td>4.0</td>\n",
       "      <td>...</td>\n",
       "      <td>53.0</td>\n",
       "      <td>21.0</td>\n",
       "      <td>NaN</td>\n",
       "      <td>0.820135</td>\n",
       "      <td>0.826640</td>\n",
       "      <td>0.924449</td>\n",
       "      <td>0.849198</td>\n",
       "      <td>NaN</td>\n",
       "      <td>1.0</td>\n",
       "      <td>0.0</td>\n",
       "    </tr>\n",
       "    <tr>\n",
       "      <th>1</th>\n",
       "      <td>428</td>\n",
       "      <td>0.082728</td>\n",
       "      <td>0.089256</td>\n",
       "      <td>0.108986</td>\n",
       "      <td>0.082701</td>\n",
       "      <td>0.097698</td>\n",
       "      <td>15.0</td>\n",
       "      <td>20.0</td>\n",
       "      <td>23.0</td>\n",
       "      <td>15.0</td>\n",
       "      <td>...</td>\n",
       "      <td>17.0</td>\n",
       "      <td>10.0</td>\n",
       "      <td>2.0</td>\n",
       "      <td>0.295562</td>\n",
       "      <td>0.292068</td>\n",
       "      <td>0.331285</td>\n",
       "      <td>0.302392</td>\n",
       "      <td>0.321687</td>\n",
       "      <td>1.0</td>\n",
       "      <td>0.0</td>\n",
       "    </tr>\n",
       "    <tr>\n",
       "      <th>2</th>\n",
       "      <td>829</td>\n",
       "      <td>0.254989</td>\n",
       "      <td>0.451691</td>\n",
       "      <td>0.391611</td>\n",
       "      <td>0.269229</td>\n",
       "      <td>0.421682</td>\n",
       "      <td>100.0</td>\n",
       "      <td>132.0</td>\n",
       "      <td>119.0</td>\n",
       "      <td>87.0</td>\n",
       "      <td>...</td>\n",
       "      <td>97.0</td>\n",
       "      <td>59.0</td>\n",
       "      <td>20.0</td>\n",
       "      <td>0.684145</td>\n",
       "      <td>0.710215</td>\n",
       "      <td>0.681733</td>\n",
       "      <td>0.674895</td>\n",
       "      <td>0.888724</td>\n",
       "      <td>1.0</td>\n",
       "      <td>0.0</td>\n",
       "    </tr>\n",
       "    <tr>\n",
       "      <th>3</th>\n",
       "      <td>4970</td>\n",
       "      <td>0.099732</td>\n",
       "      <td>0.092381</td>\n",
       "      <td>0.085597</td>\n",
       "      <td>0.087349</td>\n",
       "      <td>0.058526</td>\n",
       "      <td>22.0</td>\n",
       "      <td>27.0</td>\n",
       "      <td>18.0</td>\n",
       "      <td>14.0</td>\n",
       "      <td>...</td>\n",
       "      <td>106.0</td>\n",
       "      <td>113.0</td>\n",
       "      <td>37.0</td>\n",
       "      <td>0.997864</td>\n",
       "      <td>1.040740</td>\n",
       "      <td>1.288627</td>\n",
       "      <td>1.164944</td>\n",
       "      <td>25.667156</td>\n",
       "      <td>1.0</td>\n",
       "      <td>0.0</td>\n",
       "    </tr>\n",
       "    <tr>\n",
       "      <th>4</th>\n",
       "      <td>5228</td>\n",
       "      <td>0.174162</td>\n",
       "      <td>0.000000</td>\n",
       "      <td>0.040441</td>\n",
       "      <td>0.000000</td>\n",
       "      <td>0.050779</td>\n",
       "      <td>53.0</td>\n",
       "      <td>0.0</td>\n",
       "      <td>16.0</td>\n",
       "      <td>0.0</td>\n",
       "      <td>...</td>\n",
       "      <td>10.0</td>\n",
       "      <td>0.0</td>\n",
       "      <td>0.0</td>\n",
       "      <td>0.800832</td>\n",
       "      <td>0.682618</td>\n",
       "      <td>0.512009</td>\n",
       "      <td>0.617734</td>\n",
       "      <td>1.245383</td>\n",
       "      <td>1.0</td>\n",
       "      <td>0.0</td>\n",
       "    </tr>\n",
       "  </tbody>\n",
       "</table>\n",
       "<p>5 rows × 23 columns</p>\n",
       "</div>"
      ],
      "text/plain": [
       "   meter  raw_consumption_mean_2021-11-07  raw_consumption_mean_2021-11-14  \\\n",
       "0    396                         0.084402                         0.136256   \n",
       "1    428                         0.082728                         0.089256   \n",
       "2    829                         0.254989                         0.451691   \n",
       "3   4970                         0.099732                         0.092381   \n",
       "4   5228                         0.174162                         0.000000   \n",
       "\n",
       "   raw_consumption_mean_2021-11-21  raw_consumption_mean_2021-11-28  \\\n",
       "0                         0.093388                         0.086013   \n",
       "1                         0.108986                         0.082701   \n",
       "2                         0.391611                         0.269229   \n",
       "3                         0.085597                         0.087349   \n",
       "4                         0.040441                         0.000000   \n",
       "\n",
       "   raw_consumption_mean_2021-12-05  cons_above_80_sum_2021-11-07  \\\n",
       "0                              NaN                           6.0   \n",
       "1                         0.097698                          15.0   \n",
       "2                         0.421682                         100.0   \n",
       "3                         0.058526                          22.0   \n",
       "4                         0.050779                          53.0   \n",
       "\n",
       "   cons_above_80_sum_2021-11-14  cons_above_80_sum_2021-11-21  \\\n",
       "0                          30.0                           2.0   \n",
       "1                          20.0                          23.0   \n",
       "2                         132.0                         119.0   \n",
       "3                          27.0                          18.0   \n",
       "4                           0.0                          16.0   \n",
       "\n",
       "   cons_above_80_sum_2021-11-28  ...  amps_above_80_sum_2021-11-21  \\\n",
       "0                           4.0  ...                          53.0   \n",
       "1                          15.0  ...                          17.0   \n",
       "2                          87.0  ...                          97.0   \n",
       "3                          14.0  ...                         106.0   \n",
       "4                           0.0  ...                          10.0   \n",
       "\n",
       "   amps_above_80_sum_2021-11-28  amps_above_80_sum_2021-12-05  \\\n",
       "0                          21.0                           NaN   \n",
       "1                          10.0                           2.0   \n",
       "2                          59.0                          20.0   \n",
       "3                         113.0                          37.0   \n",
       "4                           0.0                           0.0   \n",
       "\n",
       "   amps_coeff_var_2021-11-07  amps_coeff_var_2021-11-14  \\\n",
       "0                   0.820135                   0.826640   \n",
       "1                   0.295562                   0.292068   \n",
       "2                   0.684145                   0.710215   \n",
       "3                   0.997864                   1.040740   \n",
       "4                   0.800832                   0.682618   \n",
       "\n",
       "   amps_coeff_var_2021-11-21  amps_coeff_var_2021-11-28  \\\n",
       "0                   0.924449                   0.849198   \n",
       "1                   0.331285                   0.302392   \n",
       "2                   0.681733                   0.674895   \n",
       "3                   1.288627                   1.164944   \n",
       "4                   0.512009                   0.617734   \n",
       "\n",
       "   amps_coeff_var_2021-12-05  phases_2021-11-07  has_ev_2021-11-07  \n",
       "0                        NaN                1.0                0.0  \n",
       "1                   0.321687                1.0                0.0  \n",
       "2                   0.888724                1.0                0.0  \n",
       "3                  25.667156                1.0                0.0  \n",
       "4                   1.245383                1.0                0.0  \n",
       "\n",
       "[5 rows x 23 columns]"
      ]
     },
     "execution_count": 17,
     "metadata": {},
     "output_type": "execute_result"
    }
   ],
   "source": [
    "# Import Data\n",
    "ev_consume_quality=pd.read_csv(r'C:\\Users\\khalil\\OneDrive - Deakin University\\PhD Project\\EVChallenge\\python\\Islam\\df_analysis.csv')\n",
    "ev_consume_quality.head()"
   ]
  },
  {
   "cell_type": "code",
   "execution_count": 36,
   "metadata": {},
   "outputs": [],
   "source": [
    "# total consumption per week (coefficiet of variance)\n",
    "X1 = [x for x in ev_consume_quality.columns.to_list() if 'total_consumption_coeff_var' in x or 'amps_coeff_var' in x or 'cons_above_80' in x or 'amps_above_80' in x] + ['phases_2021-11-07']\n",
    "# total consumption per week (mean and standard deviation)\n",
    "X2 = [x for x in ev_consume_quality.columns.to_list() if 'total_consumption_mean' in x or 'total_consumption_std' in x or 'amps_coeff_var' in x or 'cons_above_80' in x or 'amps_above_80' in x] + ['phases_2021-11-07']\n",
    "# raw consumption per week (coefficiet of variance)\n",
    "X3 = [x for x in ev_consume_quality.columns.to_list() if 'raw_consumption_coeff_var' in x or 'amps_coeff_var' in x or 'cons_above_80' in x or 'amps_above_80' in x] + ['phases_2021-11-07']\n",
    "# raw consumption per week (mean and standard deviation)\n",
    "X4 = [x for x in ev_consume_quality.columns.to_list() if 'raw_consumption_mean' in x or 'total_consumption_std' in x or 'amps_coeff_var' in x or 'cons_above_80' in x or 'amps_above_80' in x] + ['phases_2021-11-07']"
   ]
  },
  {
   "cell_type": "code",
   "execution_count": 43,
   "metadata": {},
   "outputs": [],
   "source": [
    "Y = ev_consume_quality['has_ev']\n",
    "X = ev_consume_quality[X1]"
   ]
  },
  {
   "cell_type": "code",
   "execution_count": 38,
   "metadata": {},
   "outputs": [
    {
     "data": {
      "text/plain": [
       "(1008, 24)"
      ]
     },
     "execution_count": 38,
     "metadata": {},
     "output_type": "execute_result"
    }
   ],
   "source": [
    "ev_consume_quality.dropna(inplace=True)\n",
    "ev_consume_quality.shape"
   ]
  },
  {
   "cell_type": "code",
   "execution_count": 39,
   "metadata": {},
   "outputs": [],
   "source": [
    "ev_consume_quality['has_ev'] = ev_consume_quality[['has_ev_2021-11-07']].astype('int').astype('category')"
   ]
  },
  {
   "cell_type": "code",
   "execution_count": 41,
   "metadata": {},
   "outputs": [
    {
     "data": {
      "text/plain": [
       "(1008,)"
      ]
     },
     "execution_count": 41,
     "metadata": {},
     "output_type": "execute_result"
    }
   ],
   "source": [
    "Y.shape"
   ]
  },
  {
   "cell_type": "code",
   "execution_count": 44,
   "metadata": {},
   "outputs": [
    {
     "data": {
      "text/plain": [
       "(1008, 16)"
      ]
     },
     "execution_count": 44,
     "metadata": {},
     "output_type": "execute_result"
    }
   ],
   "source": [
    "X.shape"
   ]
  },
  {
   "cell_type": "code",
   "execution_count": 26,
   "metadata": {},
   "outputs": [
    {
     "data": {
      "text/plain": [
       "0.031746031746031744"
      ]
     },
     "execution_count": 26,
     "metadata": {},
     "output_type": "execute_result"
    }
   ],
   "source": [
    "# Number of meters having EV\n",
    "sum(ev_consume_quality[Y])/len(ev_consume_quality[Y])"
   ]
  },
  {
   "cell_type": "code",
   "execution_count": 34,
   "metadata": {},
   "outputs": [
    {
     "data": {
      "text/plain": [
       "1"
      ]
     },
     "execution_count": 34,
     "metadata": {},
     "output_type": "execute_result"
    }
   ],
   "source": [
    "len(ev_consume_quality['has_ev'].shape)"
   ]
  },
  {
   "cell_type": "code",
   "execution_count": null,
   "metadata": {},
   "outputs": [],
   "source": [
    "ev_consume_quality.info()"
   ]
  },
  {
   "cell_type": "code",
   "execution_count": 51,
   "metadata": {},
   "outputs": [],
   "source": [
    "# Split data\n",
    "X_train, X_test, Y_train, Y_test = train_test_split(X, Y, random_state=42, stratify=Y)"
   ]
  },
  {
   "cell_type": "code",
   "execution_count": 52,
   "metadata": {},
   "outputs": [
    {
     "data": {
      "text/plain": [
       "0.031746031746031744"
      ]
     },
     "execution_count": 52,
     "metadata": {},
     "output_type": "execute_result"
    }
   ],
   "source": [
    "# Number of EV in train dataset\n",
    "sum(Y_train)/len(Y_train)"
   ]
  },
  {
   "cell_type": "code",
   "execution_count": 64,
   "metadata": {},
   "outputs": [
    {
     "name": "stdout",
     "output_type": "stream",
     "text": [
      "[0]\tvalidation_0-aucpr:0.02845\n",
      "[1]\tvalidation_0-aucpr:0.14882\n",
      "[2]\tvalidation_0-aucpr:0.12986\n",
      "[3]\tvalidation_0-aucpr:0.14184\n",
      "[4]\tvalidation_0-aucpr:0.13986\n",
      "[5]\tvalidation_0-aucpr:0.10116\n",
      "[6]\tvalidation_0-aucpr:0.08586\n",
      "[7]\tvalidation_0-aucpr:0.09771\n",
      "[8]\tvalidation_0-aucpr:0.09171\n",
      "[9]\tvalidation_0-aucpr:0.09533\n",
      "[10]\tvalidation_0-aucpr:0.09194\n",
      "[11]\tvalidation_0-aucpr:0.11592\n"
     ]
    },
    {
     "name": "stderr",
     "output_type": "stream",
     "text": [
      "C:\\Users\\khalil\\AppData\\Local\\Programs\\Python\\Python310\\lib\\site-packages\\xgboost\\sklearn.py:1224: UserWarning: The use of label encoder in XGBClassifier is deprecated and will be removed in a future release. To remove this warning, do the following: 1) Pass option use_label_encoder=False when constructing XGBClassifier object; and 2) Encode your labels (y) as integers starting with 0, i.e. 0, 1, 2, ..., [num_class - 1].\n",
      "  warnings.warn(label_encoder_deprecation_msg, UserWarning)\n"
     ]
    },
    {
     "data": {
      "text/plain": [
       "' early_stopping_rounds=10: stop if in the next 10 trees do not improve prediction\\naucpr: a method to evaluate how well prediction made\\neval_set: passing to test data, evaluating how many trees to be built\\n'"
      ]
     },
     "execution_count": 64,
     "metadata": {},
     "output_type": "execute_result"
    }
   ],
   "source": [
    "# Create a variable storing XGBClassifier\n",
    "clf_xgb = xgb.XGBClassifier(objective='binary:logistic', missing=1, seed=42) \n",
    "\n",
    "# Create tree by running fit\n",
    "clf_xgb.fit(X_train, \n",
    "            Y_train,\n",
    "            verbose=True,\n",
    "            early_stopping_rounds=10,\n",
    "            eval_metric='aucpr',\n",
    "            eval_set=[(X_test, Y_test)])\n",
    "''' early_stopping_rounds=10: stop if in the next 10 trees do not improve prediction\n",
    "aucpr: a method to evaluate how well prediction made\n",
    "eval_set: passing to test data, evaluating how many trees to be built\n",
    "'''\n"
   ]
  },
  {
   "cell_type": "code",
   "execution_count": 63,
   "metadata": {},
   "outputs": [
    {
     "data": {
      "text/plain": [
       "0"
      ]
     },
     "execution_count": 63,
     "metadata": {},
     "output_type": "execute_result"
    }
   ],
   "source": []
  },
  {
   "cell_type": "code",
   "execution_count": 65,
   "metadata": {},
   "outputs": [
    {
     "name": "stderr",
     "output_type": "stream",
     "text": [
      "C:\\Users\\khalil\\AppData\\Local\\Programs\\Python\\Python310\\lib\\site-packages\\sklearn\\utils\\deprecation.py:87: FutureWarning: Function plot_confusion_matrix is deprecated; Function `plot_confusion_matrix` is deprecated in 1.0 and will be removed in 1.2. Use one of the class methods: ConfusionMatrixDisplay.from_predictions or ConfusionMatrixDisplay.from_estimator.\n",
      "  warnings.warn(msg, category=FutureWarning)\n"
     ]
    },
    {
     "data": {
      "text/plain": [
       "'\\nlast 2 rows is to mate confusion matrix pretty\\n'"
      ]
     },
     "execution_count": 65,
     "metadata": {},
     "output_type": "execute_result"
    },
    {
     "data": {
      "image/png": "[encoded data removed]",
      "text/plain": [
       "<Figure size 432x288 with 2 Axes>"
      ]
     },
     "metadata": {
      "needs_background": "light"
     },
     "output_type": "display_data"
    }
   ],
   "source": [
    "# Plot confusion matrix\n",
    "plot_confusion_matrix(clf_xgb, \n",
    "                    X_test, \n",
    "                    Y_test, \n",
    "                    values_format='d', \n",
    "                    display_labels=[\"Not have EV\", \"Have EV\"])\n",
    "'''\n",
    "last 2 rows is to mate confusion matrix pretty\n",
    "'''"
   ]
  },
  {
   "cell_type": "markdown",
   "metadata": {},
   "source": [
    "### Cross validation"
   ]
  },
  {
   "cell_type": "code",
   "execution_count": 68,
   "metadata": {},
   "outputs": [],
   "source": [
    "'''GridSearchCV\n",
    "Note: when data are imbalanced, the XGBoost manual says...\n",
    "If you care only about the overall performance metric(AUD) o fyour prediction\n",
    "      * Balance the positive and negative weights via scale_pos_weight\n",
    "      * Use AUD for evaluation\n",
    "Also not: I can GridSearchCV sequentially on subsets of parameter options, rather than all at in order to optimize parameters in a short period of time\n",
    "'''\n",
    "\n",
    "## Round 1:\n",
    "param_grid = {\n",
    "    'max_depth': [3, 4, 5], # test 3,4, 5 levels of tree\n",
    "    'learning_rate': [0.1, 0.01, 0.05],\n",
    "    'gamma': [0, 0.25, 1.0],\n",
    "    'reg_lambda': [0, 1.0, 10.0],\n",
    "    'scale_pos_weight': [1, 3, 5] # note: XGBoost recommends sum(negative instances)/sum(positive)=15.6 for EV data. For extremely unbalanced data, scale_pos_weight=sqrt(sum(negative examples)/sum(Positive examples))=4 \n",
    "}\n",
    "## Output: max_dept: a, learning_rate:b, gamma:c, reg_lambda:d, scale_pos_weight:e\n",
    "## for those parameters at the ends of their range, we should continue explore in Round 2. Supopse that learning_rate and reg_lambda were at their range"
   ]
  },
  {
   "cell_type": "code",
   "execution_count": 74,
   "metadata": {},
   "outputs": [],
   "source": [
    "## Round 2: remember to fill in outputs of previous round\n",
    "param_grid = {\n",
    "    'max_depth': [9, 10, 11],\n",
    "    'learning_rate': [0.05],\n",
    "    'gamma': [0],\n",
    "    'reg_lambda': [1.0],\n",
    "    'scale_pos_weight': [4]\n",
    "}\n",
    "\n",
    "## Optimal outputs are:"
   ]
  },
  {
   "cell_type": "code",
   "execution_count": 75,
   "metadata": {},
   "outputs": [],
   "source": [
    "# Note: To speed up cross validation, and to further prevent overfitting.\n",
    "# We are only using a random subset of the data (90%) and \n",
    "# are only using a random subset of the features (columns) {colsample_bytree=50%} per tree\n",
    "optimal_params = GridSearchCV(\n",
    "    estimator = xgb.XGBClassifier(objective='binary:logistic',\n",
    "                                    seed=42,\n",
    "                                    subsample = 0.9,\n",
    "                                    colsample_bytree=0.5),\n",
    "    param_grid=param_grid,\n",
    "    scoring='roc_auc',\n",
    "    verbose=0, # Note: if you want to see what Grid Search is doing, set verbose=2\n",
    "    n_jobs=10,\n",
    "    cv=3\n",
    ")"
   ]
  },
  {
   "cell_type": "code",
   "execution_count": 76,
   "metadata": {},
   "outputs": [
    {
     "name": "stdout",
     "output_type": "stream",
     "text": [
      "{'gamma': 0, 'learning_rate': 0.05, 'max_depth': 9, 'reg_lambda': 1.0, 'scale_pos_weight': 4}\n"
     ]
    },
    {
     "name": "stderr",
     "output_type": "stream",
     "text": [
      "C:\\Users\\khalil\\AppData\\Local\\Programs\\Python\\Python310\\lib\\site-packages\\xgboost\\sklearn.py:1224: UserWarning: The use of label encoder in XGBClassifier is deprecated and will be removed in a future release. To remove this warning, do the following: 1) Pass option use_label_encoder=False when constructing XGBClassifier object; and 2) Encode your labels (y) as integers starting with 0, i.e. 0, 1, 2, ..., [num_class - 1].\n",
      "  warnings.warn(label_encoder_deprecation_msg, UserWarning)\n"
     ]
    }
   ],
   "source": [
    "optimal_params.fit(X_train,\n",
    "                    Y_train,\n",
    "                    early_stopping_rounds=10,\n",
    "                    eval_metric='auc',\n",
    "                    eval_set=[(X_test, Y_test)],\n",
    "                    verbose=False\n",
    ")\n",
    "\n",
    "print(optimal_params.best_params_)"
   ]
  },
  {
   "cell_type": "code",
   "execution_count": null,
   "metadata": {},
   "outputs": [],
   "source": [
    "## Optimal parameters are: gamma= , learn_rate= , max_depth= , reg_lambda= ."
   ]
  },
  {
   "cell_type": "markdown",
   "metadata": {},
   "source": [
    "### Final XGBoost Model"
   ]
  },
  {
   "cell_type": "code",
   "execution_count": 78,
   "metadata": {},
   "outputs": [
    {
     "name": "stdout",
     "output_type": "stream",
     "text": [
      "[02:21:08] WARNING: C:/Users/Administrator/workspace/xgboost-win64_release_1.5.1/src/learner.cc:576: \n",
      "Parameters: { \"learn_rate\" } might not be used.\n",
      "\n",
      "  This could be a false alarm, with some parameters getting used by language bindings but\n",
      "  then being mistakenly passed down to XGBoost core, or some parameter actually being used\n",
      "  but getting flagged wrongly here. Please open an issue if you find any such cases.\n",
      "\n",
      "\n",
      "[0]\tvalidation_0-aucpr:0.04472\n",
      "[1]\tvalidation_0-aucpr:0.08546\n",
      "[2]\tvalidation_0-aucpr:0.07660\n",
      "[3]\tvalidation_0-aucpr:0.07380\n",
      "[4]\tvalidation_0-aucpr:0.09511\n",
      "[5]\tvalidation_0-aucpr:0.09920\n",
      "[6]\tvalidation_0-aucpr:0.09849\n",
      "[7]\tvalidation_0-aucpr:0.10168\n",
      "[8]\tvalidation_0-aucpr:0.09374\n",
      "[9]\tvalidation_0-aucpr:0.10534\n",
      "[10]\tvalidation_0-aucpr:0.12289\n",
      "[11]\tvalidation_0-aucpr:0.12826\n",
      "[12]\tvalidation_0-aucpr:0.20712\n",
      "[13]\tvalidation_0-aucpr:0.21431\n",
      "[14]\tvalidation_0-aucpr:0.22433\n",
      "[15]\tvalidation_0-aucpr:0.13613\n",
      "[16]\tvalidation_0-aucpr:0.22275\n",
      "[17]\tvalidation_0-aucpr:0.22612\n",
      "[18]\tvalidation_0-aucpr:0.22623\n",
      "[19]\tvalidation_0-aucpr:0.22937\n",
      "[20]\tvalidation_0-aucpr:0.22970\n",
      "[21]\tvalidation_0-aucpr:0.23021\n",
      "[22]\tvalidation_0-aucpr:0.22966\n",
      "[23]\tvalidation_0-aucpr:0.22873\n",
      "[24]\tvalidation_0-aucpr:0.22670\n",
      "[25]\tvalidation_0-aucpr:0.22603\n",
      "[26]\tvalidation_0-aucpr:0.22622\n",
      "[27]\tvalidation_0-aucpr:0.22524\n",
      "[28]\tvalidation_0-aucpr:0.23346\n",
      "[29]\tvalidation_0-aucpr:0.24583\n",
      "[30]\tvalidation_0-aucpr:0.23982\n",
      "[31]\tvalidation_0-aucpr:0.23588\n",
      "[32]\tvalidation_0-aucpr:0.23976\n",
      "[33]\tvalidation_0-aucpr:0.23894\n",
      "[34]\tvalidation_0-aucpr:0.24291\n",
      "[35]\tvalidation_0-aucpr:0.23405\n",
      "[36]\tvalidation_0-aucpr:0.23066\n",
      "[37]\tvalidation_0-aucpr:0.23381\n",
      "[38]\tvalidation_0-aucpr:0.23329\n",
      "[39]\tvalidation_0-aucpr:0.23333\n"
     ]
    },
    {
     "data": {
      "text/plain": [
       "XGBClassifier(base_score=0.5, booster='gbtree', colsample_bylevel=1,\n",
       "              colsample_bynode=1, colsample_bytree=1, enable_categorical=False,\n",
       "              gamma=0, gpu_id=-1, importance_type=None,\n",
       "              interaction_constraints='', learn_rate=0.05,\n",
       "              learning_rate=0.300000012, max_delta_step=0, max_depth=9,\n",
       "              min_child_weight=1, missing=nan, monotone_constraints='()',\n",
       "              n_estimators=100, n_jobs=4, num_parallel_tree=1, predictor='auto',\n",
       "              random_state=42, reg_alpha=0, reg_lambda=1, scale_pos_weight=4,\n",
       "              seed=42, subsample=1, tree_method='exact', validate_parameters=1,\n",
       "              verbosity=None)"
      ]
     },
     "execution_count": 78,
     "metadata": {},
     "output_type": "execute_result"
    }
   ],
   "source": [
    "# Rember to fill above optimal parameters\n",
    "clf_xgb = xgb.XGBClassifier(seed=42,\n",
    "                            objective='binary:logistic',\n",
    "                            gamma= 0,\n",
    "                            learn_rate= 0.05,\n",
    "                            max_depth= 9,\n",
    "                            reg_lambda= 1,\n",
    "                            scale_pos_weight= 4,\n",
    "                            subsample=1,\n",
    "                            colsample_bytree=1\n",
    "                            )\n",
    "\n",
    "clf_xgb.fit(X_train,\n",
    "            Y_train,\n",
    "            verbose=True,\n",
    "            early_stopping_rounds=10,\n",
    "            eval_metric='aucpr',\n",
    "            eval_set=[(X_test, Y_test)])\n"
   ]
  },
  {
   "cell_type": "code",
   "execution_count": 79,
   "metadata": {},
   "outputs": [
    {
     "name": "stderr",
     "output_type": "stream",
     "text": [
      "C:\\Users\\khalil\\AppData\\Local\\Programs\\Python\\Python310\\lib\\site-packages\\sklearn\\utils\\deprecation.py:87: FutureWarning: Function plot_confusion_matrix is deprecated; Function `plot_confusion_matrix` is deprecated in 1.0 and will be removed in 1.2. Use one of the class methods: ConfusionMatrixDisplay.from_predictions or ConfusionMatrixDisplay.from_estimator.\n",
      "  warnings.warn(msg, category=FutureWarning)\n"
     ]
    },
    {
     "data": {
      "text/plain": [
       "<sklearn.metrics._plot.confusion_matrix.ConfusionMatrixDisplay at 0x1d748e56050>"
      ]
     },
     "execution_count": 79,
     "metadata": {},
     "output_type": "execute_result"
    },
    {
     "data": {
      "image/png": "[encoded data removed]",
      "text/plain": [
       "<Figure size 432x288 with 2 Axes>"
      ]
     },
     "metadata": {
      "needs_background": "light"
     },
     "output_type": "display_data"
    }
   ],
   "source": [
    "# Plot confusion matrix\n",
    "plot_confusion_matrix(clf_xgb, \n",
    "                    X_test, \n",
    "                    Y_test, \n",
    "                    values_format='d', \n",
    "                    display_labels=[\"Not have EV\", \"Have EV\"])"
   ]
  },
  {
   "cell_type": "code",
   "execution_count": null,
   "metadata": {},
   "outputs": [],
   "source": [
    "# To save confusion matrix\n",
    "confusion_matrix = plot_confusion_matrix(clf_xgb, \n",
    "                    X_test, \n",
    "                    Y_test, \n",
    "                    values_format='d', \n",
    "                    display_labels=[\"Not have EV\", \"Have EV\"])\n",
    "confusion_matrix.view(filename='confusion_matrix') ## save as pdf"
   ]
  },
  {
   "cell_type": "markdown",
   "metadata": {},
   "source": [
    "### Draw tree"
   ]
  },
  {
   "cell_type": "code",
   "execution_count": null,
   "metadata": {},
   "outputs": [],
   "source": [
    "# Rember to fill above optimal parameters\n",
    "clf_xgb = xgb.XGBClassifier(seed=42,\n",
    "                            objective='binary:logistic',\n",
    "                            gamma= ,\n",
    "                            learn_rate= ,\n",
    "                            max_depth= ,\n",
    "                            reg_lambda= ,\n",
    "                            scale_pos_weight= ,\n",
    "                            subsample=0.9,\n",
    "                            colsample_bytree=0.5,\n",
    "                            n_estimator=1) ## We set this to 1 to build the first tree\n",
    "clf_xgb.fit(X_train, Y_train)  \n",
    "\n",
    "# Now print out the wright, gain, cover etc. for the tree\n",
    "# weight = number of times a feature is used in a branch or root accross all trees\n",
    "# gain =  the average gain cross all splits that the feature is used in\n",
    "# cover = the average coverage across all splits a feature is used in\n",
    "# total_gain = the total gain across all splits the feature is used in\n",
    "# total_cover = the total coverage across all splits the feature is used in\n",
    "# Note: Since we only build one tree, gain = total_gain and cover=total_cover\n",
    "\n",
    "bst = clf_xgb.get_booster()\n",
    "for importance_type in ('weight', 'gain', 'cover', 'total_gain', 'total_cover'):\n",
    "    print('%s: ' % importance_type, bst.get_score(importance_type=importance_type))\n",
    "\n",
    "node_params = {'shape': 'box',\n",
    "                'style': 'rilled, rounded',\n",
    "                'fillcolor': '#78cbe'}\n",
    "leaf_params = {'shape': 'box',\n",
    "                'style': 'filled',\n",
    "                'fillcolor': '#e48038'}\n",
    "\n",
    "# Note: num_trees is not the number of trees to plot, but the specific tree you want to plot\n",
    "# The default value is 0, but I'm setting it just to show it in action since it is counter-intuitive.\n",
    "xgb.to_graphviz(clf_xgb, num_trees=0, size=\"10,10\",\n",
    "                condition_node_params=node_params,\n",
    "                leaf_node_params=leaf_params)"
   ]
  },
  {
   "cell_type": "code",
   "execution_count": null,
   "metadata": {},
   "outputs": [],
   "source": [
    "# To save figure:\n",
    "graph_data = xgb.to_graphviz(clf_xgb, num_trees=0, size=\"10,10\",\n",
    "                condition_node_params=node_params,\n",
    "                leaf_node_params=leaf_params)\n",
    "graph_data.view(filename='xgboost_tree_customer_churn') ## save as pdf"
   ]
  },
  {
   "cell_type": "markdown",
   "metadata": {},
   "source": [
    "# Random forest"
   ]
  },
  {
   "cell_type": "code",
   "execution_count": null,
   "metadata": {},
   "outputs": [],
   "source": [
    "from sklearn.ensemble import RandomForestClassifier"
   ]
  },
  {
   "cell_type": "code",
   "execution_count": null,
   "metadata": {},
   "outputs": [],
   "source": [
    "## Preliminary random forest\n",
    "rf = RandomForestClassifier(n_estimators=100, criterion='entropy') #criterion is either gini or entropy\n",
    "rf.fit(X_train, Y_train)\n",
    "prediction_test = rf.predict(X=X_test)"
   ]
  },
  {
   "cell_type": "code",
   "execution_count": null,
   "metadata": {},
   "outputs": [],
   "source": [
    "# Accuracy on Test\n",
    "print('Training accuracy is: ', rf.score(X_train, Y_train))\n",
    "\n",
    "# Accuracy on train\n",
    "print('Testing accuracy is:', rf.score(X_test, Y_test))"
   ]
  },
  {
   "cell_type": "code",
   "execution_count": null,
   "metadata": {},
   "outputs": [],
   "source": [
    "# Confusion matrix\n",
    "cm = confusion_matrix(Y_test, prediction_test)\n",
    "cm_norm = cm/cm.sum(axis=1)[:, np.newaxis]\n",
    "plt.figure()\n",
    "plot_confusion_matrix(cm_norm, classes=rf.classes_)"
   ]
  },
  {
   "cell_type": "code",
   "execution_count": null,
   "metadata": {},
   "outputs": [],
   "source": [
    "# Tuning forest tree - find optimal parameters\n",
    "from itertools import product\n",
    "\n",
    "\n",
    "n_estimator=100\n",
    "max_features = [1, 'sqrt', 'log2']\n",
    "max_depths = ['None', 2, 3, 4, 5]\n",
    "for f, d in product(max_features, max_depths):\n",
    "    rf = RandomForestClassifier(n_estimators=n_estimator,\n",
    "                                criterion='entropy',\n",
    "                                max_features=f,\n",
    "                                max_depth=d,\n",
    "                                n_jobs=2,\n",
    "                                random_state=42)\n",
    "rf.fit(X_train, Y_train)\n",
    "prediction_test = rf.predict(X=X_test)\n",
    "print('Classification accuracy on test set with max features = {} and max_depth = {}: {:.3f}'.format(f, d, accuracy_score(Y_test, prediction_test)))\n",
    "\n",
    "\n",
    "# Confusion matrix\n",
    "cm2 = confusion_matrix(Y_test, prediction_test)\n",
    "cm_norm2 = cm2/cm2.sum(axis=1)[:, np.newaxis]\n",
    "plt.figure()\n",
    "plot_confusion_matrix(cm_norm2, classes=rf.classes_)\n",
    "\n",
    "# From these confusion matrix, identify the best parameters"
   ]
  },
  {
   "cell_type": "markdown",
   "metadata": {},
   "source": [
    "# Decision tree"
   ]
  },
  {
   "cell_type": "code",
   "execution_count": null,
   "metadata": {},
   "outputs": [],
   "source": []
  }
 ],
 "metadata": {
  "interpreter": {
   "hash": "ea1c9167d144f2d815f36a1c1023612c67534e34fbd81c0d3d6424e3859904be"
  },
  "kernelspec": {
   "display_name": "Python 3 (ipykernel)",
   "language": "python",
   "name": "python3"
  },
  "language_info": {
   "codemirror_mode": {
    "name": "ipython",
    "version": 3
   },
   "file_extension": ".py",
   "mimetype": "text/x-python",
   "name": "python",
   "nbconvert_exporter": "python",
   "pygments_lexer": "ipython3",
   "version": "3.10.2"
  }
 },
 "nbformat": 4,
 "nbformat_minor": 2
}

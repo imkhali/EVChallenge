{
 "cells": [
  {
   "cell_type": "markdown",
   "metadata": {},
   "source": [
    "Outline\n",
    "\n",
    "[Preliminary](#preliminary)<br>\n",
    "[Clean & Merge](#clean--merge)<br>\n",
    "[Feature engineering](#feature-engineering)<br>\n",
    "[Graphical Analysis](#graphical-analysis)<br>\n",
    "[Modelling](#modelling)<br>\n"
   ]
  },
  {
   "cell_type": "markdown",
   "metadata": {},
   "source": [
    "# Preliminary"
   ]
  },
  {
   "cell_type": "code",
   "execution_count": 34,
   "metadata": {
    "jupyter": {
     "source_hidden": true
    }
   },
   "outputs": [],
   "source": [
    "import glob\n",
    "import matplotlib.dates as mdates\n",
    "import matplotlib.pyplot as plt\n",
    "import numpy as np\n",
    "import pandas as pd\n",
    "import seaborn as sns\n",
    "from dateutil import tz\n",
    "\n",
    "data_directory = '../../RawFiles'\n",
    "melbourne_tz = tz.gettz('Australia/Melbourne')\n",
    "\n",
    "sns.set()\n",
    "\n",
    "pd.set_option('display.max_rows', 1000)\n",
    "pd.set_option('display.max_colwidth', 100)\n",
    "pd.set_option('display.float_format', lambda x: '%.5f' % x if int(x) != x else '%d' % int(x))\n",
    "\n",
    "\n",
    "class display(object):\n",
    "    \"\"\"Display HTML representation of multiple objects\"\"\"\n",
    "    template = \"\"\"<div style=\"float: left; padding: 10px;\">\n",
    "    <p style='font-family:\"Courier New\", Courier, monospace'>{0}</p>{1}\n",
    "    </div>\"\"\"\n",
    "    def __init__(self, *args):\n",
    "        self.args = args\n",
    "        \n",
    "    def _repr_html_(self):\n",
    "        return '\\n'.join(self.template.format(a, eval(a)._repr_html_())\n",
    "                         for a in self.args)\n",
    "    \n",
    "    def __repr__(self):\n",
    "        return '\\n\\n'.join(a + '\\n' + repr(eval(a))\n",
    "                           for a in self.args)\n",
    "\n"
   ]
  },
  {
   "cell_type": "markdown",
   "metadata": {},
   "source": [
    "<a id='Clean_Merge'></a>"
   ]
  },
  {
   "cell_type": "markdown",
   "metadata": {},
   "source": [
    "# Clean & Merge"
   ]
  },
  {
   "cell_type": "markdown",
   "metadata": {},
   "source": [
    "channel_cd\tvoltage_lvt\tamps\tpower_factor_pf\tnumber_of_phases\toverground_or_underground\tmake\tmodel\tcharger\tdrive_kms\thas_ev"
   ]
  },
  {
   "cell_type": "code",
   "execution_count": 2,
   "metadata": {
    "jupyter": {
     "source_hidden": true
    }
   },
   "outputs": [],
   "source": [
    "def append_csvs_into_df(file_pattern: str, ignore_index: bool = True, sort: bool = False):\n",
    "    data_frames = []\n",
    "    for file in glob.glob(file_pattern):\n",
    "        print(f'loading: {file}')\n",
    "        data_frames.append(pd.read_csv(file))\n",
    "    full_dataset = pd.concat(data_frames, ignore_index=ignore_index, sort=sort)\n",
    "    return full_dataset\n",
    "\n",
    "\n",
    "def simple_col_name(x):\n",
    "    x = x.lower().strip()\n",
    "    return {'meter_id': 'meter',\n",
    "            'start_timestamptz_ts': 'time',\n",
    "            'interval_ts': 'time',\n",
    "            'active_consumption_kwh': 'consumption',\n",
    "            'active_generation_kwh': 'generation',\n",
    "            'ev make': 'make',\n",
    "            'ev model': 'model',\n",
    "            \"amps_lct\": 'amps',\n",
    "            'ev wall charger installed?': 'charger',\n",
    "            'how many kms do you usually drive each year? \\n(prior to the covid-19 pandemic)': 'drive_kms',\n",
    "            'power_factor_pf': 'power factor',\n",
    "            ''\n",
    "            }.setdefault(x, x)\n",
    "\n"
   ]
  },
  {
   "cell_type": "markdown",
   "metadata": {},
   "source": [
    "<h1> 1- EV Meters list (those who have EV) </h1>"
   ]
  },
  {
   "cell_type": "code",
   "execution_count": 3,
   "metadata": {
    "jupyter": {
     "source_hidden": true
    }
   },
   "outputs": [
    {
     "data": {
      "text/html": [
       "<div>\n",
       "<style scoped>\n",
       "    .dataframe tbody tr th:only-of-type {\n",
       "        vertical-align: middle;\n",
       "    }\n",
       "\n",
       "    .dataframe tbody tr th {\n",
       "        vertical-align: top;\n",
       "    }\n",
       "\n",
       "    .dataframe thead th {\n",
       "        text-align: right;\n",
       "    }\n",
       "</style>\n",
       "<table border=\"1\" class=\"dataframe\">\n",
       "  <thead>\n",
       "    <tr style=\"text-align: right;\">\n",
       "      <th></th>\n",
       "      <th>meter</th>\n",
       "      <th>make</th>\n",
       "      <th>model</th>\n",
       "      <th>charger</th>\n",
       "      <th>drive_kms</th>\n",
       "      <th>has_ev</th>\n",
       "    </tr>\n",
       "  </thead>\n",
       "  <tbody>\n",
       "    <tr>\n",
       "      <th>0</th>\n",
       "      <td>14702</td>\n",
       "      <td>Tesla</td>\n",
       "      <td>Model 3 and Model X</td>\n",
       "      <td>Yes</td>\n",
       "      <td>Greater than 20,000</td>\n",
       "      <td>1</td>\n",
       "    </tr>\n",
       "    <tr>\n",
       "      <th>1</th>\n",
       "      <td>21463</td>\n",
       "      <td>Nissan</td>\n",
       "      <td>Leaf</td>\n",
       "      <td>No</td>\n",
       "      <td>5,000 to 10,000</td>\n",
       "      <td>1</td>\n",
       "    </tr>\n",
       "    <tr>\n",
       "      <th>2</th>\n",
       "      <td>63317</td>\n",
       "      <td>Nissan</td>\n",
       "      <td>Leaf</td>\n",
       "      <td>No</td>\n",
       "      <td>5,000 to 10,000</td>\n",
       "      <td>1</td>\n",
       "    </tr>\n",
       "    <tr>\n",
       "      <th>3</th>\n",
       "      <td>69825</td>\n",
       "      <td>Jaguar</td>\n",
       "      <td>ipace</td>\n",
       "      <td>Yes</td>\n",
       "      <td>10,000 to 15,000</td>\n",
       "      <td>1</td>\n",
       "    </tr>\n",
       "    <tr>\n",
       "      <th>4</th>\n",
       "      <td>98536</td>\n",
       "      <td>Jaguar</td>\n",
       "      <td>ipace</td>\n",
       "      <td>No</td>\n",
       "      <td>15,000 to 20,000</td>\n",
       "      <td>1</td>\n",
       "    </tr>\n",
       "  </tbody>\n",
       "</table>\n",
       "</div>"
      ],
      "text/plain": [
       "   meter     make                model charger            drive_kms  has_ev\n",
       "0  14702    Tesla  Model 3 and Model X     Yes  Greater than 20,000       1\n",
       "1  21463   Nissan                 Leaf      No      5,000 to 10,000       1\n",
       "2  63317  Nissan                  Leaf      No      5,000 to 10,000       1\n",
       "3  69825  Jaguar                 ipace     Yes     10,000 to 15,000       1\n",
       "4  98536   Jaguar                ipace      No     15,000 to 20,000       1"
      ]
     },
     "execution_count": 3,
     "metadata": {},
     "output_type": "execute_result"
    }
   ],
   "source": [
    "df_with_ev = pd.read_excel(f'{data_directory}/EV_training_meters_list.xlsx').rename(columns=simple_col_name).drop(columns=['kms_group'])\n",
    "meters_with_ev = df_with_ev['meter'].to_list()\n",
    "df_with_ev['has_ev'] = 1\n",
    "df_with_ev.head()\n"
   ]
  },
  {
   "cell_type": "markdown",
   "metadata": {},
   "source": [
    "\n",
    "<h1> 2- Consumption datasets </h1>\n"
   ]
  },
  {
   "cell_type": "code",
   "execution_count": 4,
   "metadata": {
    "jupyter": {
     "source_hidden": true
    }
   },
   "outputs": [
    {
     "name": "stdout",
     "output_type": "stream",
     "text": [
      "loading: ../../RawFiles\\consumption_training_data_nov21.csv\n"
     ]
    },
    {
     "data": {
      "text/html": [
       "<div>\n",
       "<style scoped>\n",
       "    .dataframe tbody tr th:only-of-type {\n",
       "        vertical-align: middle;\n",
       "    }\n",
       "\n",
       "    .dataframe tbody tr th {\n",
       "        vertical-align: top;\n",
       "    }\n",
       "\n",
       "    .dataframe thead th {\n",
       "        text-align: right;\n",
       "    }\n",
       "</style>\n",
       "<table border=\"1\" class=\"dataframe\">\n",
       "  <thead>\n",
       "    <tr style=\"text-align: right;\">\n",
       "      <th></th>\n",
       "      <th></th>\n",
       "      <th>consumption</th>\n",
       "      <th>generation</th>\n",
       "      <th>total_consumption</th>\n",
       "      <th>make</th>\n",
       "      <th>model</th>\n",
       "      <th>charger</th>\n",
       "      <th>drive_kms</th>\n",
       "      <th>has_ev</th>\n",
       "    </tr>\n",
       "    <tr>\n",
       "      <th>meter</th>\n",
       "      <th>time</th>\n",
       "      <th></th>\n",
       "      <th></th>\n",
       "      <th></th>\n",
       "      <th></th>\n",
       "      <th></th>\n",
       "      <th></th>\n",
       "      <th></th>\n",
       "      <th></th>\n",
       "    </tr>\n",
       "  </thead>\n",
       "  <tbody>\n",
       "    <tr>\n",
       "      <th rowspan=\"5\" valign=\"top\">396</th>\n",
       "      <th>2021-11-01 11:00:00+11:00</th>\n",
       "      <td>0.0437</td>\n",
       "      <td>0.0</td>\n",
       "      <td>0.0437</td>\n",
       "      <td>NaN</td>\n",
       "      <td>NaN</td>\n",
       "      <td>NaN</td>\n",
       "      <td>NaN</td>\n",
       "      <td>0</td>\n",
       "    </tr>\n",
       "    <tr>\n",
       "      <th>2021-11-01 11:30:00+11:00</th>\n",
       "      <td>0.0750</td>\n",
       "      <td>0.0</td>\n",
       "      <td>0.0750</td>\n",
       "      <td>NaN</td>\n",
       "      <td>NaN</td>\n",
       "      <td>NaN</td>\n",
       "      <td>NaN</td>\n",
       "      <td>0</td>\n",
       "    </tr>\n",
       "    <tr>\n",
       "      <th>2021-11-01 12:00:00+11:00</th>\n",
       "      <td>0.1187</td>\n",
       "      <td>0.0</td>\n",
       "      <td>0.1187</td>\n",
       "      <td>NaN</td>\n",
       "      <td>NaN</td>\n",
       "      <td>NaN</td>\n",
       "      <td>NaN</td>\n",
       "      <td>0</td>\n",
       "    </tr>\n",
       "    <tr>\n",
       "      <th>2021-11-01 12:30:00+11:00</th>\n",
       "      <td>0.0562</td>\n",
       "      <td>0.0</td>\n",
       "      <td>0.0562</td>\n",
       "      <td>NaN</td>\n",
       "      <td>NaN</td>\n",
       "      <td>NaN</td>\n",
       "      <td>NaN</td>\n",
       "      <td>0</td>\n",
       "    </tr>\n",
       "    <tr>\n",
       "      <th>2021-11-01 13:00:00+11:00</th>\n",
       "      <td>0.0437</td>\n",
       "      <td>0.0</td>\n",
       "      <td>0.0437</td>\n",
       "      <td>NaN</td>\n",
       "      <td>NaN</td>\n",
       "      <td>NaN</td>\n",
       "      <td>NaN</td>\n",
       "      <td>0</td>\n",
       "    </tr>\n",
       "  </tbody>\n",
       "</table>\n",
       "</div>"
      ],
      "text/plain": [
       "                                 consumption  generation  total_consumption  \\\n",
       "meter time                                                                    \n",
       "396   2021-11-01 11:00:00+11:00       0.0437         0.0             0.0437   \n",
       "      2021-11-01 11:30:00+11:00       0.0750         0.0             0.0750   \n",
       "      2021-11-01 12:00:00+11:00       0.1187         0.0             0.1187   \n",
       "      2021-11-01 12:30:00+11:00       0.0562         0.0             0.0562   \n",
       "      2021-11-01 13:00:00+11:00       0.0437         0.0             0.0437   \n",
       "\n",
       "                                make model charger drive_kms  has_ev  \n",
       "meter time                                                            \n",
       "396   2021-11-01 11:00:00+11:00  NaN   NaN     NaN       NaN       0  \n",
       "      2021-11-01 11:30:00+11:00  NaN   NaN     NaN       NaN       0  \n",
       "      2021-11-01 12:00:00+11:00  NaN   NaN     NaN       NaN       0  \n",
       "      2021-11-01 12:30:00+11:00  NaN   NaN     NaN       NaN       0  \n",
       "      2021-11-01 13:00:00+11:00  NaN   NaN     NaN       NaN       0  "
      ]
     },
     "execution_count": 4,
     "metadata": {},
     "output_type": "execute_result"
    }
   ],
   "source": [
    "# append & rename\n",
    "df_consumption = append_csvs_into_df(f\"{data_directory}/*consumption*nov*21*csv\").drop(['Unnamed: 0'], axis=1).rename(\n",
    "    columns=simple_col_name)\n",
    "# dates\n",
    "df_consumption['time'] = pd.to_datetime(df_consumption['time'], infer_datetime_format=True, utc=True).dt.tz_convert(\n",
    "    melbourne_tz)\n",
    "# fixing columns\n",
    "df_consumption = df_consumption.groupby(['meter', 'time']).sum().reset_index()\n",
    "df_consumption['total_consumption'] = df_consumption[['consumption', 'generation']].sum(axis=1, skipna=True)\n",
    "# merge with known EVs\n",
    "df_consumption = pd.merge(left=df_consumption, right=df_with_ev, on='meter', how='outer')\n",
    "# has_ev\n",
    "df_consumption['has_ev'] = df_consumption['has_ev'].fillna(0).astype('int')\n",
    "# needed later\n",
    "meters_with_no_ev = list(set(df_consumption['meter'].unique().tolist()) - set(meters_with_ev))\n",
    "# index\n",
    "df_consumption = df_consumption.set_index(['meter', 'time']).sort_index()\n",
    "# .drop_duplicates(subset=['meter', 'time'], keep=False).drop('element_uuid', axis=1)\\\n",
    "# .set_index(['time'])\\\n",
    "# .groupby('meter')\\\n",
    "# .resample('5T', closed='right', label='right')\\\n",
    "# .ffill().drop('meter', axis=1)\n",
    "df_consumption.head()\n",
    "\n"
   ]
  },
  {
   "cell_type": "markdown",
   "metadata": {},
   "source": [
    "<h1> 3- Power quality datasets </h1>"
   ]
  },
  {
   "cell_type": "code",
   "execution_count": 5,
   "metadata": {
    "jupyter": {
     "source_hidden": true
    }
   },
   "outputs": [
    {
     "name": "stdout",
     "output_type": "stream",
     "text": [
      "loading: ../../RawFiles\\power_quality_training_data_nov21.csv\n"
     ]
    },
    {
     "data": {
      "text/html": [
       "<div>\n",
       "<style scoped>\n",
       "    .dataframe tbody tr th:only-of-type {\n",
       "        vertical-align: middle;\n",
       "    }\n",
       "\n",
       "    .dataframe tbody tr th {\n",
       "        vertical-align: top;\n",
       "    }\n",
       "\n",
       "    .dataframe thead th {\n",
       "        text-align: right;\n",
       "    }\n",
       "</style>\n",
       "<table border=\"1\" class=\"dataframe\">\n",
       "  <thead>\n",
       "    <tr style=\"text-align: right;\">\n",
       "      <th></th>\n",
       "      <th></th>\n",
       "      <th>channel_cd</th>\n",
       "      <th>voltage_lvt</th>\n",
       "      <th>amps</th>\n",
       "      <th>power_factor_pf</th>\n",
       "      <th>number_of_phases</th>\n",
       "      <th>overground_or_underground</th>\n",
       "      <th>make</th>\n",
       "      <th>model</th>\n",
       "      <th>charger</th>\n",
       "      <th>drive_kms</th>\n",
       "      <th>has_ev</th>\n",
       "    </tr>\n",
       "    <tr>\n",
       "      <th>meter</th>\n",
       "      <th>time</th>\n",
       "      <th></th>\n",
       "      <th></th>\n",
       "      <th></th>\n",
       "      <th></th>\n",
       "      <th></th>\n",
       "      <th></th>\n",
       "      <th></th>\n",
       "      <th></th>\n",
       "      <th></th>\n",
       "      <th></th>\n",
       "      <th></th>\n",
       "    </tr>\n",
       "  </thead>\n",
       "  <tbody>\n",
       "    <tr>\n",
       "      <th rowspan=\"5\" valign=\"top\">396</th>\n",
       "      <th>2021-11-01 00:00:00+11:00</th>\n",
       "      <td>a</td>\n",
       "      <td>242.47</td>\n",
       "      <td>0.344000</td>\n",
       "      <td>1.000</td>\n",
       "      <td>1</td>\n",
       "      <td>OH</td>\n",
       "      <td>NaN</td>\n",
       "      <td>NaN</td>\n",
       "      <td>NaN</td>\n",
       "      <td>NaN</td>\n",
       "      <td>0</td>\n",
       "    </tr>\n",
       "    <tr>\n",
       "      <th>2021-11-01 00:05:00+11:00</th>\n",
       "      <td>a</td>\n",
       "      <td>244.95</td>\n",
       "      <td>0.335175</td>\n",
       "      <td>-0.543</td>\n",
       "      <td>1</td>\n",
       "      <td>OH</td>\n",
       "      <td>NaN</td>\n",
       "      <td>NaN</td>\n",
       "      <td>NaN</td>\n",
       "      <td>NaN</td>\n",
       "      <td>0</td>\n",
       "    </tr>\n",
       "    <tr>\n",
       "      <th>2021-11-01 00:10:00+11:00</th>\n",
       "      <td>a</td>\n",
       "      <td>243.59</td>\n",
       "      <td>0.331522</td>\n",
       "      <td>-0.552</td>\n",
       "      <td>1</td>\n",
       "      <td>OH</td>\n",
       "      <td>NaN</td>\n",
       "      <td>NaN</td>\n",
       "      <td>NaN</td>\n",
       "      <td>NaN</td>\n",
       "      <td>0</td>\n",
       "    </tr>\n",
       "    <tr>\n",
       "      <th>2021-11-01 00:15:00+11:00</th>\n",
       "      <td>a</td>\n",
       "      <td>244.58</td>\n",
       "      <td>0.566290</td>\n",
       "      <td>-0.973</td>\n",
       "      <td>1</td>\n",
       "      <td>OH</td>\n",
       "      <td>NaN</td>\n",
       "      <td>NaN</td>\n",
       "      <td>NaN</td>\n",
       "      <td>NaN</td>\n",
       "      <td>0</td>\n",
       "    </tr>\n",
       "    <tr>\n",
       "      <th>2021-11-01 00:20:00+11:00</th>\n",
       "      <td>a</td>\n",
       "      <td>245.43</td>\n",
       "      <td>0.540289</td>\n",
       "      <td>-0.968</td>\n",
       "      <td>1</td>\n",
       "      <td>OH</td>\n",
       "      <td>NaN</td>\n",
       "      <td>NaN</td>\n",
       "      <td>NaN</td>\n",
       "      <td>NaN</td>\n",
       "      <td>0</td>\n",
       "    </tr>\n",
       "  </tbody>\n",
       "</table>\n",
       "</div>"
      ],
      "text/plain": [
       "                                channel_cd  voltage_lvt      amps  \\\n",
       "meter time                                                          \n",
       "396   2021-11-01 00:00:00+11:00          a       242.47  0.344000   \n",
       "      2021-11-01 00:05:00+11:00          a       244.95  0.335175   \n",
       "      2021-11-01 00:10:00+11:00          a       243.59  0.331522   \n",
       "      2021-11-01 00:15:00+11:00          a       244.58  0.566290   \n",
       "      2021-11-01 00:20:00+11:00          a       245.43  0.540289   \n",
       "\n",
       "                                 power_factor_pf  number_of_phases  \\\n",
       "meter time                                                           \n",
       "396   2021-11-01 00:00:00+11:00            1.000                 1   \n",
       "      2021-11-01 00:05:00+11:00           -0.543                 1   \n",
       "      2021-11-01 00:10:00+11:00           -0.552                 1   \n",
       "      2021-11-01 00:15:00+11:00           -0.973                 1   \n",
       "      2021-11-01 00:20:00+11:00           -0.968                 1   \n",
       "\n",
       "                                overground_or_underground make model charger  \\\n",
       "meter time                                                                     \n",
       "396   2021-11-01 00:00:00+11:00                        OH  NaN   NaN     NaN   \n",
       "      2021-11-01 00:05:00+11:00                        OH  NaN   NaN     NaN   \n",
       "      2021-11-01 00:10:00+11:00                        OH  NaN   NaN     NaN   \n",
       "      2021-11-01 00:15:00+11:00                        OH  NaN   NaN     NaN   \n",
       "      2021-11-01 00:20:00+11:00                        OH  NaN   NaN     NaN   \n",
       "\n",
       "                                drive_kms  has_ev  \n",
       "meter time                                         \n",
       "396   2021-11-01 00:00:00+11:00       NaN       0  \n",
       "      2021-11-01 00:05:00+11:00       NaN       0  \n",
       "      2021-11-01 00:10:00+11:00       NaN       0  \n",
       "      2021-11-01 00:15:00+11:00       NaN       0  \n",
       "      2021-11-01 00:20:00+11:00       NaN       0  "
      ]
     },
     "execution_count": 5,
     "metadata": {},
     "output_type": "execute_result"
    }
   ],
   "source": [
    "# power quality datasets\n",
    "# append & rename\n",
    "df_power_quality = append_csvs_into_df(f\"{data_directory}/*power_quality*nov*21*csv\").drop(['Unnamed: 0'],\n",
    "                                                                                           axis=1).rename(\n",
    "    columns=simple_col_name)\n",
    "# proper types\n",
    "df_power_quality['time'] = pd.to_datetime(df_power_quality['time'], infer_datetime_format=True, utc=True).dt.tz_convert(\n",
    "    melbourne_tz)\n",
    "obj_columns = df_power_quality.select_dtypes(include='object').columns\n",
    "df_power_quality[obj_columns] = df_power_quality[obj_columns].astype('category')\n",
    "# merge with known EVs\n",
    "df_power_quality = pd.merge(left=df_power_quality, right=df_with_ev, on='meter', how='outer')\n",
    "df_power_quality['has_ev'] = df_power_quality['has_ev'].fillna(0).astype('int')\n",
    "# index\n",
    "df_power_quality = df_power_quality.set_index(['meter', 'time']).sort_index()\n",
    "df_power_quality.head()\n"
   ]
  },
  {
   "cell_type": "markdown",
   "metadata": {},
   "source": [
    "# Feature engineering"
   ]
  },
  {
   "cell_type": "markdown",
   "metadata": {},
   "source": [
    "The Correlation between the number of times within a month the meter consumption exceeded different percentiles of consumption and probability of having EV"
   ]
  },
  {
   "cell_type": "code",
   "execution_count": null,
   "metadata": {},
   "outputs": [],
   "source": [
    "corr = []\n",
    "perc = []\n",
    "for q in range(50, 100, 5):\n",
    "    df_consumption[f'cons_above_{q}'] = np.where(\n",
    "        df_consumption['consumption'] > df_consumption['consumption'].quantile(q/100), 1, 0\n",
    "        )\n",
    "    aggregations = {\n",
    "        f'cons_above_{q}': 'sum',\n",
    "        'has_ev': 'last'\n",
    "    }\n",
    "    numeric_features = df_consumption.select_dtypes(exclude='object').columns\n",
    "    agg_cons = df_consumption[numeric_features].reset_index().groupby('meter').aggregate(aggregations)\n",
    "    corr.append(agg_cons.corr().loc['has_ev', f'cons_above_{q}'])\n",
    "    perc.append(q)\n",
    "pd.Series(corr, index=perc)\n",
    "df_consumption.head()"
   ]
  },
  {
   "cell_type": "code",
   "execution_count": null,
   "metadata": {},
   "outputs": [],
   "source": [
    "pd.DataFrame([df_power_quality.isna().sum(), df_power_quality.count()], index=['count_missing', 'count']).T"
   ]
  },
  {
   "cell_type": "markdown",
   "metadata": {},
   "source": [
    "The Correlation between the number of times within a month the meter current (amps) exceeded different percentiles of current and probability of having EV"
   ]
  },
  {
   "cell_type": "code",
   "execution_count": null,
   "metadata": {},
   "outputs": [],
   "source": [
    "corr = []\n",
    "perc = []\n",
    "for q in range(50, 100, 5):\n",
    "    df_power_quality[f'amps_above_{q}'] = np.where(\n",
    "        df_power_quality['amps'] > df_power_quality['amps'].quantile(q/100), 1, 0\n",
    "        )\n",
    "    aggregations = {\n",
    "        f'amps_above_{q}': 'sum',\n",
    "        'has_ev': 'last'\n",
    "    }\n",
    "    numeric_features = df_power_quality.select_dtypes(exclude='object').columns\n",
    "    agg_amps = df_power_quality[numeric_features].reset_index().groupby('meter').aggregate(aggregations)\n",
    "    corr.append(agg_amps.corr().loc['has_ev', f'amps_above_{q}'])\n",
    "    perc.append(q)\n",
    "pd.Series(corr, index=perc)"
   ]
  },
  {
   "cell_type": "markdown",
   "metadata": {},
   "source": [
    "# Graphical Analysis"
   ]
  },
  {
   "cell_type": "markdown",
   "metadata": {},
   "source": [
    "Helper functions"
   ]
  },
  {
   "cell_type": "code",
   "execution_count": null,
   "metadata": {
    "jupyter": {
     "source_hidden": true
    },
    "pycharm": {
     "name": "#%%\n"
    }
   },
   "outputs": [],
   "source": [
    "\n",
    "def subset_by_meter(meter_id: int, start: str, end: str, cols=None):\n",
    "    # ensure start and end dates are within dataset range\n",
    "    cols = cols or ['consumption', 'amps']\n",
    "    min_date, max_date = df_consumption.reset_index()['time'][[0, len(df_consumption) - 1]]\n",
    "    start = max(pd.to_datetime(start).tz_localize(melbourne_tz), min_date)\n",
    "    end = min(pd.to_datetime(end).tz_localize(melbourne_tz), max_date)\n",
    "    df1 = df_consumption.loc[pd.IndexSlice[meter_id, start:end], :].droplevel('meter')\n",
    "    df2 = df_power_quality.loc[pd.IndexSlice[meter_id, start:end], :].droplevel('meter')\n",
    "    return pd.merge(left=df1, right=df2, left_index=True, right_index=True, how='left')[cols]\n",
    "\n",
    "\n",
    "def plot_subplots_common_x(meter_data, hours_interval: int | None = None) -> None:\n",
    "    fig, axes = plt.subplots(2, 1, figsize=(30, 12))\n",
    "    # plot at a time\n",
    "    for col, ax in zip(meter_data.columns, axes):\n",
    "        meter_data[col].plot(ax=ax, subplots=True, x_compat=True)\n",
    "        ax.set_title(col.title())\n",
    "        ax.set_xlabel(\"\")\n",
    "        # X axis labels\n",
    "        date_locator = mdates.DayLocator(interval=1)\n",
    "        date_form = mdates.DateFormatter(\"%m-%d\")\n",
    "        ax.xaxis.grid(True, which='major', color='gray')\n",
    "        ax.xaxis.set_major_locator(date_locator)\n",
    "        ax.xaxis.set_major_formatter(date_form)\n",
    "        ax.tick_params(axis='x', which='major', pad=20)\n",
    "        if hours_interval is not None:\n",
    "            hour_locator = mdates.HourLocator(interval=hours_interval)\n",
    "            hour_form = mdates.DateFormatter(\"%H\")\n",
    "            ax.xaxis.set_minor_locator(hour_locator)\n",
    "            ax.xaxis.set_minor_formatter(hour_form)\n",
    "\n",
    "def plot_consumption_amps(meter, start='2021-11-15', end='2021-11-30', hours_interval=12, verbose=True):\n",
    "    meter_data = subset_by_meter(meter_id=meter, start=start, end=end)\n",
    "    if verbose:\n",
    "        meter_info = df_with_ev[df_with_ev['meter'] == meter]\n",
    "        if not meter_info.empty:\n",
    "            print(meter_info)\n",
    "        else:\n",
    "            print('meter has no EV')\n",
    "    \n",
    "    fig = plot_subplots_common_x(meter_data, hours_interval=hours_interval)\n"
   ]
  },
  {
   "cell_type": "markdown",
   "metadata": {},
   "source": [
    "Consumption and current for meters with EV between 15th and 30th November 2021"
   ]
  },
  {
   "cell_type": "code",
   "execution_count": null,
   "metadata": {
    "tags": []
   },
   "outputs": [],
   "source": [
    "plot_consumption_amps(meter=meters_with_ev[0])\n",
    "## example of customized plot\n",
    "plot_consumption_amps(meter=meters_with_ev[0], start='2021-11-15', end='2021-11-17', hours_interval=6, verbose=False)"
   ]
  },
  {
   "cell_type": "code",
   "execution_count": null,
   "metadata": {
    "jupyter": {
     "source_hidden": true
    }
   },
   "outputs": [],
   "source": [
    "plot_consumption_amps(meter=meters_with_ev[1])"
   ]
  },
  {
   "cell_type": "code",
   "execution_count": null,
   "metadata": {
    "jupyter": {
     "source_hidden": true
    }
   },
   "outputs": [],
   "source": [
    "plot_consumption_amps(meters_with_ev[2])\n",
    "plot_consumption_amps(meters_with_ev[2], start='2021-11-23', end='2021-11-26', verbose=False)"
   ]
  },
  {
   "cell_type": "code",
   "execution_count": null,
   "metadata": {
    "jupyter": {
     "source_hidden": true
    }
   },
   "outputs": [],
   "source": [
    "\n",
    "plot_consumption_amps(meters_with_ev[3])"
   ]
  },
  {
   "cell_type": "code",
   "execution_count": null,
   "metadata": {
    "jupyter": {
     "source_hidden": true
    }
   },
   "outputs": [],
   "source": [
    "plot_consumption_amps(meters_with_ev[4])"
   ]
  },
  {
   "cell_type": "code",
   "execution_count": null,
   "metadata": {
    "jupyter": {
     "source_hidden": true
    }
   },
   "outputs": [],
   "source": [
    "plot_consumption_amps(meters_with_ev[5])"
   ]
  },
  {
   "cell_type": "code",
   "execution_count": null,
   "metadata": {
    "jupyter": {
     "source_hidden": true
    }
   },
   "outputs": [],
   "source": [
    "plot_consumption_amps(meters_with_ev[6])"
   ]
  },
  {
   "cell_type": "code",
   "execution_count": null,
   "metadata": {
    "jupyter": {
     "source_hidden": true
    }
   },
   "outputs": [],
   "source": [
    "plot_consumption_amps(meters_with_ev[7])"
   ]
  },
  {
   "cell_type": "code",
   "execution_count": null,
   "metadata": {
    "jupyter": {
     "source_hidden": true
    }
   },
   "outputs": [],
   "source": [
    "plot_consumption_amps(meters_with_ev[8])"
   ]
  },
  {
   "cell_type": "code",
   "execution_count": null,
   "metadata": {
    "jupyter": {
     "source_hidden": true
    }
   },
   "outputs": [],
   "source": [
    "plot_consumption_amps(meters_with_ev[9])"
   ]
  },
  {
   "cell_type": "code",
   "execution_count": null,
   "metadata": {
    "jupyter": {
     "source_hidden": true
    }
   },
   "outputs": [],
   "source": [
    "plot_consumption_amps(meters_with_ev[10])"
   ]
  },
  {
   "cell_type": "code",
   "execution_count": null,
   "metadata": {
    "jupyter": {
     "source_hidden": true
    }
   },
   "outputs": [],
   "source": [
    "plot_consumption_amps(meters_with_ev[11])"
   ]
  },
  {
   "cell_type": "code",
   "execution_count": null,
   "metadata": {
    "jupyter": {
     "source_hidden": true
    }
   },
   "outputs": [],
   "source": [
    "plot_consumption_amps(meters_with_ev[12])"
   ]
  },
  {
   "cell_type": "code",
   "execution_count": null,
   "metadata": {
    "jupyter": {
     "source_hidden": true
    }
   },
   "outputs": [],
   "source": [
    "plot_consumption_amps(meters_with_ev[13])"
   ]
  },
  {
   "cell_type": "code",
   "execution_count": null,
   "metadata": {
    "jupyter": {
     "source_hidden": true
    }
   },
   "outputs": [],
   "source": [
    "plot_consumption_amps(meters_with_ev[14])"
   ]
  },
  {
   "cell_type": "code",
   "execution_count": null,
   "metadata": {
    "jupyter": {
     "source_hidden": true
    }
   },
   "outputs": [],
   "source": [
    "plot_consumption_amps(meters_with_ev[15])"
   ]
  },
  {
   "cell_type": "markdown",
   "metadata": {},
   "source": [
    "\n",
    "<h3> No EV meters for same period as above </h3>"
   ]
  },
  {
   "cell_type": "code",
   "execution_count": null,
   "metadata": {
    "jupyter": {
     "source_hidden": true
    }
   },
   "outputs": [],
   "source": [
    "plot_consumption_amps(meters_with_no_ev[0])\n",
    "plot_consumption_amps(meters_with_no_ev[0], start='2021-11-15', end='2021-11-19', verbose=False)"
   ]
  },
  {
   "cell_type": "code",
   "execution_count": null,
   "metadata": {
    "jupyter": {
     "source_hidden": true
    }
   },
   "outputs": [],
   "source": [
    "plot_consumption_amps(meters_with_no_ev[1])"
   ]
  },
  {
   "cell_type": "code",
   "execution_count": null,
   "metadata": {
    "jupyter": {
     "source_hidden": true
    }
   },
   "outputs": [],
   "source": [
    "plot_consumption_amps(meters_with_no_ev[2])"
   ]
  },
  {
   "cell_type": "code",
   "execution_count": null,
   "metadata": {
    "jupyter": {
     "source_hidden": true
    }
   },
   "outputs": [],
   "source": [
    "plot_consumption_amps(meters_with_no_ev[3])"
   ]
  },
  {
   "cell_type": "code",
   "execution_count": null,
   "metadata": {
    "jupyter": {
     "source_hidden": true
    }
   },
   "outputs": [],
   "source": [
    "plot_consumption_amps(meters_with_no_ev[4])"
   ]
  },
  {
   "cell_type": "code",
   "execution_count": null,
   "metadata": {
    "jupyter": {
     "source_hidden": true
    }
   },
   "outputs": [],
   "source": [
    "plot_consumption_amps(meters_with_no_ev[5])"
   ]
  },
  {
   "cell_type": "code",
   "execution_count": null,
   "metadata": {
    "jupyter": {
     "source_hidden": true
    }
   },
   "outputs": [],
   "source": [
    "\n",
    "plot_consumption_amps(meters_with_no_ev[7])"
   ]
  },
  {
   "cell_type": "code",
   "execution_count": null,
   "metadata": {
    "jupyter": {
     "source_hidden": true
    }
   },
   "outputs": [],
   "source": [
    "plot_consumption_amps(meters_with_no_ev[8])"
   ]
  },
  {
   "cell_type": "code",
   "execution_count": null,
   "metadata": {
    "jupyter": {
     "source_hidden": true
    }
   },
   "outputs": [],
   "source": [
    "plot_consumption_amps(meters_with_no_ev[9])\n"
   ]
  },
  {
   "cell_type": "code",
   "execution_count": null,
   "metadata": {
    "jupyter": {
     "source_hidden": true
    }
   },
   "outputs": [],
   "source": [
    "plot_consumption_amps(meters_with_no_ev[10])"
   ]
  },
  {
   "cell_type": "code",
   "execution_count": null,
   "metadata": {
    "jupyter": {
     "source_hidden": true
    }
   },
   "outputs": [],
   "source": [
    "plot_consumption_amps(meters_with_no_ev[11])"
   ]
  },
  {
   "cell_type": "code",
   "execution_count": null,
   "metadata": {
    "jupyter": {
     "source_hidden": true
    }
   },
   "outputs": [],
   "source": [
    "plot_consumption_amps(meters_with_no_ev[12])"
   ]
  },
  {
   "cell_type": "code",
   "execution_count": null,
   "metadata": {
    "jupyter": {
     "source_hidden": true
    }
   },
   "outputs": [],
   "source": [
    "plot_consumption_amps(meters_with_no_ev[13])\n",
    "plot_consumption_amps(meters_with_no_ev[13], start='2021-11-20', end='2021-11-24', hours_interval=3)"
   ]
  },
  {
   "cell_type": "code",
   "execution_count": null,
   "metadata": {
    "jupyter": {
     "source_hidden": true
    }
   },
   "outputs": [],
   "source": [
    "plot_consumption_amps(meters_with_no_ev[14])"
   ]
  },
  {
   "cell_type": "code",
   "execution_count": null,
   "metadata": {
    "jupyter": {
     "source_hidden": true
    }
   },
   "outputs": [],
   "source": [
    "plot_consumption_amps(meters_with_no_ev[15])"
   ]
  },
  {
   "cell_type": "markdown",
   "metadata": {},
   "source": [
    "<a id='Modelling'></a>"
   ]
  },
  {
   "cell_type": "markdown",
   "metadata": {},
   "source": [
    "# Modelling"
   ]
  },
  {
   "cell_type": "markdown",
   "metadata": {},
   "source": [
    "### old approach "
   ]
  },
  {
   "cell_type": "code",
   "execution_count": null,
   "metadata": {
    "jupyter": {
     "source_hidden": true
    }
   },
   "outputs": [],
   "source": [
    "df_consumption['has_ev'] = np.where(df_consumption['has_ev'].isna(), 0, 1)\n",
    "# for col in ['year', 'month', 'day', 'hour', 'minute']:\n",
    "#     df_consumption[col] = getattr(pd.DatetimeIndex(df_consumption['time']), col)\n",
    "df_consumption_analysis = df_consumption.drop(\n",
    "    columns=['generation', 'ev_make', 'ev_model', 'wallcharger', 'annual_km', 'annual_km_group',\n",
    "             'year', 'month', 'day', 'hour', 'minute'])\n",
    "df_consumption_analysis['identifier'] = df_consumption_analysis['meter'].astype('str') + df_consumption_analysis[\n",
    "    'element_uuid']\n",
    "df_consumption_analysis = df_consumption_analysis.drop(columns=['meter', 'element_uuid']).set_index(\n",
    "    ['identifier', 'time'])\n",
    "df_consumption_analysis.head()"
   ]
  },
  {
   "cell_type": "code",
   "execution_count": null,
   "metadata": {
    "jupyter": {
     "source_hidden": true
    }
   },
   "outputs": [],
   "source": [
    "import statsmodels.api as sm\n",
    "from linearmodels import PanelOLS\n",
    "\n",
    "exog = sm.tools.add_constant(df_consumption_analysis['consumption'])\n",
    "endog = df_consumption_analysis['has_ev']\n",
    "# fixed effects model\n",
    "model_fe = PanelOLS(endog, exog, entity_effects=True)\n",
    "fe_res = model_fe.fit()\n",
    "print(fe_res)"
   ]
  },
  {
   "cell_type": "code",
   "execution_count": null,
   "metadata": {
    "jupyter": {
     "source_hidden": true
    }
   },
   "outputs": [],
   "source": [
    "df_power_quality['has_ev'] = np.where(df_power_quality['has_ev'].isna(), 0, 1)\n",
    "# for col in ['year', 'month', 'day', 'hour', 'minute']:\n",
    "#     df_power_quality[col] = getattr(pd.DatetimeIndex(df_power_quality['time']), col)\n",
    "df_power_quality.drop(\n",
    "    columns=['overground_or_underground', 'ev_make', 'ev_model', 'wallcharger', 'annual_km', 'annual_km_group'],\n",
    "    inplace=True)\n",
    "df_power_quality['identifier'] = df_power_quality['meter'].astype('str') + df_power_quality['channel_cd']\n",
    "df_power_quality.drop(columns=['meter', 'channel_cs'], inpalce=True)\n",
    "df_power_quality.set_index(['identifier', 'time'], inplace=True)\n",
    "df_power_quality.head()"
   ]
  },
  {
   "cell_type": "code",
   "execution_count": null,
   "metadata": {
    "jupyter": {
     "source_hidden": true
    }
   },
   "outputs": [],
   "source": [
    "# import statsmodels.api as sm\n",
    "# from linearmodels import PanelOLS\n",
    "\n",
    "# exog = sm.tools.add_constant(df_power_quality['amps'])\n",
    "# exog = sm.tools.add_constant(df_power_quality['voltage_lvt'])\n",
    "# exog = sm.tools.add_constant(df_power_quality['power_factor_pf'])\n",
    "# exog = sm.tools.add_constant(df_power_quality['number_of_phases'])\n",
    "# endog = df_consumption_analysis['has_ev']\n",
    "# # fixed effects model\n",
    "# model_fe = PanelOLS(endog, exog, entity_effects=True)\n",
    "# fe_res = model_fe.fit()\n",
    "# print(fe_res)"
   ]
  },
  {
   "cell_type": "markdown",
   "metadata": {},
   "source": [
    "## Approach one"
   ]
  },
  {
   "cell_type": "markdown",
   "metadata": {
    "jupyter": {
     "source_hidden": true
    }
   },
   "source": [
    "- Collapsing channels<br> \n",
    "    phase 1: drop channel b<br>\n",
    "    phase 3: collapse channels; voltage -> mean, amps -> sum, power factor -> mean<br>\n",
    "- Collapsing variables to be weekly averages (as features)<br>\n",
    "- Logistic regression<br>\n",
    "\n",
    "(note: element_uuid is dropped from consumption)"
   ]
  },
  {
   "cell_type": "code",
   "execution_count": 39,
   "metadata": {},
   "outputs": [
    {
     "name": "stdout",
     "output_type": "stream",
     "text": [
      "<class 'pandas.core.frame.DataFrame'>\n",
      "MultiIndex: 1537672 entries, (396, Timestamp('2021-11-01 11:00:00+1100', tz='dateutil/Australia/Melbourne')) to (792189, Timestamp('2021-12-01 10:30:00+1100', tz='dateutil/Australia/Melbourne'))\n",
      "Data columns (total 8 columns):\n",
      " #   Column             Non-Null Count    Dtype  \n",
      "---  ------             --------------    -----  \n",
      " 0   consumption        1537672 non-null  float64\n",
      " 1   generation         1537672 non-null  float64\n",
      " 2   total_consumption  1537672 non-null  float64\n",
      " 3   make               85909 non-null    object \n",
      " 4   model              85909 non-null    object \n",
      " 5   charger            85909 non-null    object \n",
      " 6   drive_kms          85909 non-null    object \n",
      " 7   has_ev             1537672 non-null  int32  \n",
      "dtypes: float64(3), int32(1), object(4)\n",
      "memory usage: 94.2+ MB\n"
     ]
    },
    {
     "data": {
      "text/html": [
       "<div style=\"float: left; padding: 10px;\">\n",
       "    <p style='font-family:\"Courier New\", Courier, monospace'>df_consumption_app01.describe().T</p><div>\n",
       "<style scoped>\n",
       "    .dataframe tbody tr th:only-of-type {\n",
       "        vertical-align: middle;\n",
       "    }\n",
       "\n",
       "    .dataframe tbody tr th {\n",
       "        vertical-align: top;\n",
       "    }\n",
       "\n",
       "    .dataframe thead th {\n",
       "        text-align: right;\n",
       "    }\n",
       "</style>\n",
       "<table border=\"1\" class=\"dataframe\">\n",
       "  <thead>\n",
       "    <tr style=\"text-align: right;\">\n",
       "      <th></th>\n",
       "      <th>count</th>\n",
       "      <th>mean</th>\n",
       "      <th>std</th>\n",
       "      <th>min</th>\n",
       "      <th>25%</th>\n",
       "      <th>50%</th>\n",
       "      <th>75%</th>\n",
       "      <th>max</th>\n",
       "    </tr>\n",
       "  </thead>\n",
       "  <tbody>\n",
       "    <tr>\n",
       "      <th>consumption</th>\n",
       "      <td>1537672</td>\n",
       "      <td>0.19558</td>\n",
       "      <td>0.35758</td>\n",
       "      <td>0</td>\n",
       "      <td>0.03120</td>\n",
       "      <td>0.08120</td>\n",
       "      <td>0.20000</td>\n",
       "      <td>13.22500</td>\n",
       "    </tr>\n",
       "    <tr>\n",
       "      <th>generation</th>\n",
       "      <td>1537672</td>\n",
       "      <td>0.04047</td>\n",
       "      <td>0.24043</td>\n",
       "      <td>0</td>\n",
       "      <td>0</td>\n",
       "      <td>0</td>\n",
       "      <td>0</td>\n",
       "      <td>7.71250</td>\n",
       "    </tr>\n",
       "    <tr>\n",
       "      <th>total_consumption</th>\n",
       "      <td>1537672</td>\n",
       "      <td>0.23605</td>\n",
       "      <td>0.41330</td>\n",
       "      <td>0</td>\n",
       "      <td>0.04370</td>\n",
       "      <td>0.09370</td>\n",
       "      <td>0.23750</td>\n",
       "      <td>13.22500</td>\n",
       "    </tr>\n",
       "    <tr>\n",
       "      <th>has_ev</th>\n",
       "      <td>1537672</td>\n",
       "      <td>0.05587</td>\n",
       "      <td>0.22967</td>\n",
       "      <td>0</td>\n",
       "      <td>0</td>\n",
       "      <td>0</td>\n",
       "      <td>0</td>\n",
       "      <td>1</td>\n",
       "    </tr>\n",
       "  </tbody>\n",
       "</table>\n",
       "</div>\n",
       "    </div>\n",
       "<div style=\"float: left; padding: 10px;\">\n",
       "    <p style='font-family:\"Courier New\", Courier, monospace'>df_consumption_app01.head()</p><div>\n",
       "<style scoped>\n",
       "    .dataframe tbody tr th:only-of-type {\n",
       "        vertical-align: middle;\n",
       "    }\n",
       "\n",
       "    .dataframe tbody tr th {\n",
       "        vertical-align: top;\n",
       "    }\n",
       "\n",
       "    .dataframe thead th {\n",
       "        text-align: right;\n",
       "    }\n",
       "</style>\n",
       "<table border=\"1\" class=\"dataframe\">\n",
       "  <thead>\n",
       "    <tr style=\"text-align: right;\">\n",
       "      <th></th>\n",
       "      <th></th>\n",
       "      <th>consumption</th>\n",
       "      <th>generation</th>\n",
       "      <th>total_consumption</th>\n",
       "      <th>make</th>\n",
       "      <th>model</th>\n",
       "      <th>charger</th>\n",
       "      <th>drive_kms</th>\n",
       "      <th>has_ev</th>\n",
       "    </tr>\n",
       "    <tr>\n",
       "      <th>meter</th>\n",
       "      <th>time</th>\n",
       "      <th></th>\n",
       "      <th></th>\n",
       "      <th></th>\n",
       "      <th></th>\n",
       "      <th></th>\n",
       "      <th></th>\n",
       "      <th></th>\n",
       "      <th></th>\n",
       "    </tr>\n",
       "  </thead>\n",
       "  <tbody>\n",
       "    <tr>\n",
       "      <th rowspan=\"5\" valign=\"top\">396</th>\n",
       "      <th>2021-11-01 11:00:00+11:00</th>\n",
       "      <td>0.04370</td>\n",
       "      <td>0</td>\n",
       "      <td>0.04370</td>\n",
       "      <td>NaN</td>\n",
       "      <td>NaN</td>\n",
       "      <td>NaN</td>\n",
       "      <td>NaN</td>\n",
       "      <td>0</td>\n",
       "    </tr>\n",
       "    <tr>\n",
       "      <th>2021-11-01 11:30:00+11:00</th>\n",
       "      <td>0.07500</td>\n",
       "      <td>0</td>\n",
       "      <td>0.07500</td>\n",
       "      <td>NaN</td>\n",
       "      <td>NaN</td>\n",
       "      <td>NaN</td>\n",
       "      <td>NaN</td>\n",
       "      <td>0</td>\n",
       "    </tr>\n",
       "    <tr>\n",
       "      <th>2021-11-01 12:00:00+11:00</th>\n",
       "      <td>0.11870</td>\n",
       "      <td>0</td>\n",
       "      <td>0.11870</td>\n",
       "      <td>NaN</td>\n",
       "      <td>NaN</td>\n",
       "      <td>NaN</td>\n",
       "      <td>NaN</td>\n",
       "      <td>0</td>\n",
       "    </tr>\n",
       "    <tr>\n",
       "      <th>2021-11-01 12:30:00+11:00</th>\n",
       "      <td>0.05620</td>\n",
       "      <td>0</td>\n",
       "      <td>0.05620</td>\n",
       "      <td>NaN</td>\n",
       "      <td>NaN</td>\n",
       "      <td>NaN</td>\n",
       "      <td>NaN</td>\n",
       "      <td>0</td>\n",
       "    </tr>\n",
       "    <tr>\n",
       "      <th>2021-11-01 13:00:00+11:00</th>\n",
       "      <td>0.04370</td>\n",
       "      <td>0</td>\n",
       "      <td>0.04370</td>\n",
       "      <td>NaN</td>\n",
       "      <td>NaN</td>\n",
       "      <td>NaN</td>\n",
       "      <td>NaN</td>\n",
       "      <td>0</td>\n",
       "    </tr>\n",
       "  </tbody>\n",
       "</table>\n",
       "</div>\n",
       "    </div>"
      ],
      "text/plain": [
       "df_consumption_app01.describe().T\n",
       "                    count    mean     std  min     25%     50%     75%  \\\n",
       "consumption       1537672 0.19558 0.35758    0 0.03120 0.08120 0.20000   \n",
       "generation        1537672 0.04047 0.24043    0       0       0       0   \n",
       "total_consumption 1537672 0.23605 0.41330    0 0.04370 0.09370 0.23750   \n",
       "has_ev            1537672 0.05587 0.22967    0       0       0       0   \n",
       "\n",
       "                       max  \n",
       "consumption       13.22500  \n",
       "generation         7.71250  \n",
       "total_consumption 13.22500  \n",
       "has_ev                   1  \n",
       "\n",
       "df_consumption_app01.head()\n",
       "                                 consumption  generation  total_consumption  \\\n",
       "meter time                                                                    \n",
       "396   2021-11-01 11:00:00+11:00      0.04370           0            0.04370   \n",
       "      2021-11-01 11:30:00+11:00      0.07500           0            0.07500   \n",
       "      2021-11-01 12:00:00+11:00      0.11870           0            0.11870   \n",
       "      2021-11-01 12:30:00+11:00      0.05620           0            0.05620   \n",
       "      2021-11-01 13:00:00+11:00      0.04370           0            0.04370   \n",
       "\n",
       "                                make model charger drive_kms  has_ev  \n",
       "meter time                                                            \n",
       "396   2021-11-01 11:00:00+11:00  NaN   NaN     NaN       NaN       0  \n",
       "      2021-11-01 11:30:00+11:00  NaN   NaN     NaN       NaN       0  \n",
       "      2021-11-01 12:00:00+11:00  NaN   NaN     NaN       NaN       0  \n",
       "      2021-11-01 12:30:00+11:00  NaN   NaN     NaN       NaN       0  \n",
       "      2021-11-01 13:00:00+11:00  NaN   NaN     NaN       NaN       0  "
      ]
     },
     "execution_count": 39,
     "metadata": {},
     "output_type": "execute_result"
    }
   ],
   "source": [
    "df_consumption_app01 = df_consumption.copy()\n",
    "df_consumption_app01.info()\n",
    "display('df_consumption_app01.describe().T', f'df_consumption_app01.head()')"
   ]
  },
  {
   "cell_type": "code",
   "execution_count": 43,
   "metadata": {},
   "outputs": [
    {
     "name": "stdout",
     "output_type": "stream",
     "text": [
      "<class 'pandas.core.frame.DataFrame'>\n",
      "MultiIndex: 10416147 entries, (396, Timestamp('2021-11-01 00:00:00+1100', tz='dateutil/Australia/Melbourne')) to (792189, Timestamp('2021-11-29 23:55:00+1100', tz='dateutil/Australia/Melbourne'))\n",
      "Data columns (total 11 columns):\n",
      " #   Column                     Dtype   \n",
      "---  ------                     -----   \n",
      " 0   channel_cd                 category\n",
      " 1   voltage_lvt                float64 \n",
      " 2   amps                       float64 \n",
      " 3   power_factor_pf            float64 \n",
      " 4   number_of_phases           int64   \n",
      " 5   overground_or_underground  category\n",
      " 6   make                       object  \n",
      " 7   model                      object  \n",
      " 8   charger                    object  \n",
      " 9   drive_kms                  object  \n",
      " 10  has_ev                     int32   \n",
      "dtypes: category(2), float64(3), int32(1), int64(1), object(4)\n",
      "memory usage: 757.5+ MB\n"
     ]
    },
    {
     "data": {
      "text/html": [
       "<div style=\"float: left; padding: 10px;\">\n",
       "    <p style='font-family:\"Courier New\", Courier, monospace'>df_power_quality_app01.describe().T</p><div>\n",
       "<style scoped>\n",
       "    .dataframe tbody tr th:only-of-type {\n",
       "        vertical-align: middle;\n",
       "    }\n",
       "\n",
       "    .dataframe tbody tr th {\n",
       "        vertical-align: top;\n",
       "    }\n",
       "\n",
       "    .dataframe thead th {\n",
       "        text-align: right;\n",
       "    }\n",
       "</style>\n",
       "<table border=\"1\" class=\"dataframe\">\n",
       "  <thead>\n",
       "    <tr style=\"text-align: right;\">\n",
       "      <th></th>\n",
       "      <th>count</th>\n",
       "      <th>mean</th>\n",
       "      <th>std</th>\n",
       "      <th>min</th>\n",
       "      <th>25%</th>\n",
       "      <th>50%</th>\n",
       "      <th>75%</th>\n",
       "      <th>max</th>\n",
       "    </tr>\n",
       "  </thead>\n",
       "  <tbody>\n",
       "    <tr>\n",
       "      <th>voltage_lvt</th>\n",
       "      <td>9222095</td>\n",
       "      <td>237.56618</td>\n",
       "      <td>23.23659</td>\n",
       "      <td>0</td>\n",
       "      <td>236.27000</td>\n",
       "      <td>240.14000</td>\n",
       "      <td>243.25000</td>\n",
       "      <td>259.99000</td>\n",
       "    </tr>\n",
       "    <tr>\n",
       "      <th>amps</th>\n",
       "      <td>10416147</td>\n",
       "      <td>1.25739</td>\n",
       "      <td>3.62305</td>\n",
       "      <td>-57.64285</td>\n",
       "      <td>0.03659</td>\n",
       "      <td>0.70525</td>\n",
       "      <td>1.46181</td>\n",
       "      <td>73.12625</td>\n",
       "    </tr>\n",
       "    <tr>\n",
       "      <th>power_factor_pf</th>\n",
       "      <td>10416147</td>\n",
       "      <td>-0.01402</td>\n",
       "      <td>0.83283</td>\n",
       "      <td>-1</td>\n",
       "      <td>-0.82900</td>\n",
       "      <td>-0.31800</td>\n",
       "      <td>0.99700</td>\n",
       "      <td>1</td>\n",
       "    </tr>\n",
       "    <tr>\n",
       "      <th>number_of_phases</th>\n",
       "      <td>10416147</td>\n",
       "      <td>1.33285</td>\n",
       "      <td>0.74492</td>\n",
       "      <td>1</td>\n",
       "      <td>1</td>\n",
       "      <td>1</td>\n",
       "      <td>1</td>\n",
       "      <td>3</td>\n",
       "    </tr>\n",
       "    <tr>\n",
       "      <th>has_ev</th>\n",
       "      <td>10416147</td>\n",
       "      <td>0.07806</td>\n",
       "      <td>0.26827</td>\n",
       "      <td>0</td>\n",
       "      <td>0</td>\n",
       "      <td>0</td>\n",
       "      <td>0</td>\n",
       "      <td>1</td>\n",
       "    </tr>\n",
       "  </tbody>\n",
       "</table>\n",
       "</div>\n",
       "    </div>\n",
       "<div style=\"float: left; padding: 10px;\">\n",
       "    <p style='font-family:\"Courier New\", Courier, monospace'>df_power_quality_app01.head()</p><div>\n",
       "<style scoped>\n",
       "    .dataframe tbody tr th:only-of-type {\n",
       "        vertical-align: middle;\n",
       "    }\n",
       "\n",
       "    .dataframe tbody tr th {\n",
       "        vertical-align: top;\n",
       "    }\n",
       "\n",
       "    .dataframe thead th {\n",
       "        text-align: right;\n",
       "    }\n",
       "</style>\n",
       "<table border=\"1\" class=\"dataframe\">\n",
       "  <thead>\n",
       "    <tr style=\"text-align: right;\">\n",
       "      <th></th>\n",
       "      <th></th>\n",
       "      <th>channel_cd</th>\n",
       "      <th>voltage_lvt</th>\n",
       "      <th>amps</th>\n",
       "      <th>power_factor_pf</th>\n",
       "      <th>number_of_phases</th>\n",
       "      <th>overground_or_underground</th>\n",
       "      <th>make</th>\n",
       "      <th>model</th>\n",
       "      <th>charger</th>\n",
       "      <th>drive_kms</th>\n",
       "      <th>has_ev</th>\n",
       "    </tr>\n",
       "    <tr>\n",
       "      <th>meter</th>\n",
       "      <th>time</th>\n",
       "      <th></th>\n",
       "      <th></th>\n",
       "      <th></th>\n",
       "      <th></th>\n",
       "      <th></th>\n",
       "      <th></th>\n",
       "      <th></th>\n",
       "      <th></th>\n",
       "      <th></th>\n",
       "      <th></th>\n",
       "      <th></th>\n",
       "    </tr>\n",
       "  </thead>\n",
       "  <tbody>\n",
       "    <tr>\n",
       "      <th rowspan=\"5\" valign=\"top\">396</th>\n",
       "      <th>2021-11-01 00:00:00+11:00</th>\n",
       "      <td>a</td>\n",
       "      <td>242.47000</td>\n",
       "      <td>0.34400</td>\n",
       "      <td>1</td>\n",
       "      <td>1</td>\n",
       "      <td>OH</td>\n",
       "      <td>NaN</td>\n",
       "      <td>NaN</td>\n",
       "      <td>NaN</td>\n",
       "      <td>NaN</td>\n",
       "      <td>0</td>\n",
       "    </tr>\n",
       "    <tr>\n",
       "      <th>2021-11-01 00:05:00+11:00</th>\n",
       "      <td>a</td>\n",
       "      <td>244.95000</td>\n",
       "      <td>0.33518</td>\n",
       "      <td>-0.54300</td>\n",
       "      <td>1</td>\n",
       "      <td>OH</td>\n",
       "      <td>NaN</td>\n",
       "      <td>NaN</td>\n",
       "      <td>NaN</td>\n",
       "      <td>NaN</td>\n",
       "      <td>0</td>\n",
       "    </tr>\n",
       "    <tr>\n",
       "      <th>2021-11-01 00:10:00+11:00</th>\n",
       "      <td>a</td>\n",
       "      <td>243.59000</td>\n",
       "      <td>0.33152</td>\n",
       "      <td>-0.55200</td>\n",
       "      <td>1</td>\n",
       "      <td>OH</td>\n",
       "      <td>NaN</td>\n",
       "      <td>NaN</td>\n",
       "      <td>NaN</td>\n",
       "      <td>NaN</td>\n",
       "      <td>0</td>\n",
       "    </tr>\n",
       "    <tr>\n",
       "      <th>2021-11-01 00:15:00+11:00</th>\n",
       "      <td>a</td>\n",
       "      <td>244.58000</td>\n",
       "      <td>0.56629</td>\n",
       "      <td>-0.97300</td>\n",
       "      <td>1</td>\n",
       "      <td>OH</td>\n",
       "      <td>NaN</td>\n",
       "      <td>NaN</td>\n",
       "      <td>NaN</td>\n",
       "      <td>NaN</td>\n",
       "      <td>0</td>\n",
       "    </tr>\n",
       "    <tr>\n",
       "      <th>2021-11-01 00:20:00+11:00</th>\n",
       "      <td>a</td>\n",
       "      <td>245.43000</td>\n",
       "      <td>0.54029</td>\n",
       "      <td>-0.96800</td>\n",
       "      <td>1</td>\n",
       "      <td>OH</td>\n",
       "      <td>NaN</td>\n",
       "      <td>NaN</td>\n",
       "      <td>NaN</td>\n",
       "      <td>NaN</td>\n",
       "      <td>0</td>\n",
       "    </tr>\n",
       "  </tbody>\n",
       "</table>\n",
       "</div>\n",
       "    </div>"
      ],
      "text/plain": [
       "df_power_quality_app01.describe().T\n",
       "                    count      mean      std       min       25%       50%  \\\n",
       "voltage_lvt       9222095 237.56618 23.23659         0 236.27000 240.14000   \n",
       "amps             10416147   1.25739  3.62305 -57.64285   0.03659   0.70525   \n",
       "power_factor_pf  10416147  -0.01402  0.83283        -1  -0.82900  -0.31800   \n",
       "number_of_phases 10416147   1.33285  0.74492         1         1         1   \n",
       "has_ev           10416147   0.07806  0.26827         0         0         0   \n",
       "\n",
       "                       75%       max  \n",
       "voltage_lvt      243.25000 259.99000  \n",
       "amps               1.46181  73.12625  \n",
       "power_factor_pf    0.99700         1  \n",
       "number_of_phases         1         3  \n",
       "has_ev                   0         1  \n",
       "\n",
       "df_power_quality_app01.head()\n",
       "                                channel_cd  voltage_lvt    amps  \\\n",
       "meter time                                                        \n",
       "396   2021-11-01 00:00:00+11:00          a    242.47000 0.34400   \n",
       "      2021-11-01 00:05:00+11:00          a    244.95000 0.33518   \n",
       "      2021-11-01 00:10:00+11:00          a    243.59000 0.33152   \n",
       "      2021-11-01 00:15:00+11:00          a    244.58000 0.56629   \n",
       "      2021-11-01 00:20:00+11:00          a    245.43000 0.54029   \n",
       "\n",
       "                                 power_factor_pf  number_of_phases  \\\n",
       "meter time                                                           \n",
       "396   2021-11-01 00:00:00+11:00                1                 1   \n",
       "      2021-11-01 00:05:00+11:00         -0.54300                 1   \n",
       "      2021-11-01 00:10:00+11:00         -0.55200                 1   \n",
       "      2021-11-01 00:15:00+11:00         -0.97300                 1   \n",
       "      2021-11-01 00:20:00+11:00         -0.96800                 1   \n",
       "\n",
       "                                overground_or_underground make model charger  \\\n",
       "meter time                                                                     \n",
       "396   2021-11-01 00:00:00+11:00                        OH  NaN   NaN     NaN   \n",
       "      2021-11-01 00:05:00+11:00                        OH  NaN   NaN     NaN   \n",
       "      2021-11-01 00:10:00+11:00                        OH  NaN   NaN     NaN   \n",
       "      2021-11-01 00:15:00+11:00                        OH  NaN   NaN     NaN   \n",
       "      2021-11-01 00:20:00+11:00                        OH  NaN   NaN     NaN   \n",
       "\n",
       "                                drive_kms  has_ev  \n",
       "meter time                                         \n",
       "396   2021-11-01 00:00:00+11:00       NaN       0  \n",
       "      2021-11-01 00:05:00+11:00       NaN       0  \n",
       "      2021-11-01 00:10:00+11:00       NaN       0  \n",
       "      2021-11-01 00:15:00+11:00       NaN       0  \n",
       "      2021-11-01 00:20:00+11:00       NaN       0  "
      ]
     },
     "execution_count": 43,
     "metadata": {},
     "output_type": "execute_result"
    }
   ],
   "source": [
    "df_power_quality_app01 = df_power_quality.copy()\n",
    "df_power_quality_app01.info()\n",
    "display('df_power_quality_app01.describe().T', f'df_power_quality_app01.head()')"
   ]
  },
  {
   "cell_type": "code",
   "execution_count": 46,
   "metadata": {},
   "outputs": [
    {
     "data": {
      "text/html": [
       "<div>\n",
       "<style scoped>\n",
       "    .dataframe tbody tr th:only-of-type {\n",
       "        vertical-align: middle;\n",
       "    }\n",
       "\n",
       "    .dataframe tbody tr th {\n",
       "        vertical-align: top;\n",
       "    }\n",
       "\n",
       "    .dataframe thead th {\n",
       "        text-align: right;\n",
       "    }\n",
       "</style>\n",
       "<table border=\"1\" class=\"dataframe\">\n",
       "  <thead>\n",
       "    <tr style=\"text-align: right;\">\n",
       "      <th></th>\n",
       "      <th></th>\n",
       "      <th>amps</th>\n",
       "      <th>voltage_lvt</th>\n",
       "      <th>power_factor_pf</th>\n",
       "      <th>number_of_phases</th>\n",
       "    </tr>\n",
       "    <tr>\n",
       "      <th>meter</th>\n",
       "      <th>time</th>\n",
       "      <th></th>\n",
       "      <th></th>\n",
       "      <th></th>\n",
       "      <th></th>\n",
       "    </tr>\n",
       "  </thead>\n",
       "  <tbody>\n",
       "    <tr>\n",
       "      <th rowspan=\"5\" valign=\"top\">396</th>\n",
       "      <th>2021-11-01 00:00:00+11:00</th>\n",
       "      <td>0.34400</td>\n",
       "      <td>242.47000</td>\n",
       "      <td>1</td>\n",
       "      <td>1</td>\n",
       "    </tr>\n",
       "    <tr>\n",
       "      <th>2021-11-01 00:05:00+11:00</th>\n",
       "      <td>0.33518</td>\n",
       "      <td>244.95000</td>\n",
       "      <td>-0.54300</td>\n",
       "      <td>1</td>\n",
       "    </tr>\n",
       "    <tr>\n",
       "      <th>2021-11-01 00:10:00+11:00</th>\n",
       "      <td>0.33152</td>\n",
       "      <td>243.59000</td>\n",
       "      <td>-0.55200</td>\n",
       "      <td>1</td>\n",
       "    </tr>\n",
       "    <tr>\n",
       "      <th>2021-11-01 00:15:00+11:00</th>\n",
       "      <td>0.56629</td>\n",
       "      <td>244.58000</td>\n",
       "      <td>-0.97300</td>\n",
       "      <td>1</td>\n",
       "    </tr>\n",
       "    <tr>\n",
       "      <th>2021-11-01 00:20:00+11:00</th>\n",
       "      <td>0.54029</td>\n",
       "      <td>245.43000</td>\n",
       "      <td>-0.96800</td>\n",
       "      <td>1</td>\n",
       "    </tr>\n",
       "    <tr>\n",
       "      <th>...</th>\n",
       "      <th>...</th>\n",
       "      <td>...</td>\n",
       "      <td>...</td>\n",
       "      <td>...</td>\n",
       "      <td>...</td>\n",
       "    </tr>\n",
       "    <tr>\n",
       "      <th rowspan=\"5\" valign=\"top\">792189</th>\n",
       "      <th>2021-11-29 23:35:00+11:00</th>\n",
       "      <td>0</td>\n",
       "      <td>238.60000</td>\n",
       "      <td>1</td>\n",
       "      <td>1</td>\n",
       "    </tr>\n",
       "    <tr>\n",
       "      <th>2021-11-29 23:40:00+11:00</th>\n",
       "      <td>0</td>\n",
       "      <td>239.40000</td>\n",
       "      <td>1</td>\n",
       "      <td>1</td>\n",
       "    </tr>\n",
       "    <tr>\n",
       "      <th>2021-11-29 23:45:00+11:00</th>\n",
       "      <td>0</td>\n",
       "      <td>240.70000</td>\n",
       "      <td>1</td>\n",
       "      <td>1</td>\n",
       "    </tr>\n",
       "    <tr>\n",
       "      <th>2021-11-29 23:50:00+11:00</th>\n",
       "      <td>0</td>\n",
       "      <td>240.70000</td>\n",
       "      <td>1</td>\n",
       "      <td>1</td>\n",
       "    </tr>\n",
       "    <tr>\n",
       "      <th>2021-11-29 23:55:00+11:00</th>\n",
       "      <td>0</td>\n",
       "      <td>239.80000</td>\n",
       "      <td>1</td>\n",
       "      <td>1</td>\n",
       "    </tr>\n",
       "  </tbody>\n",
       "</table>\n",
       "<p>8067436 rows × 4 columns</p>\n",
       "</div>"
      ],
      "text/plain": [
       "                                    amps  voltage_lvt  power_factor_pf  \\\n",
       "meter  time                                                              \n",
       "396    2021-11-01 00:00:00+11:00 0.34400    242.47000                1   \n",
       "       2021-11-01 00:05:00+11:00 0.33518    244.95000         -0.54300   \n",
       "       2021-11-01 00:10:00+11:00 0.33152    243.59000         -0.55200   \n",
       "       2021-11-01 00:15:00+11:00 0.56629    244.58000         -0.97300   \n",
       "       2021-11-01 00:20:00+11:00 0.54029    245.43000         -0.96800   \n",
       "...                                  ...          ...              ...   \n",
       "792189 2021-11-29 23:35:00+11:00       0    238.60000                1   \n",
       "       2021-11-29 23:40:00+11:00       0    239.40000                1   \n",
       "       2021-11-29 23:45:00+11:00       0    240.70000                1   \n",
       "       2021-11-29 23:50:00+11:00       0    240.70000                1   \n",
       "       2021-11-29 23:55:00+11:00       0    239.80000                1   \n",
       "\n",
       "                                  number_of_phases  \n",
       "meter  time                                         \n",
       "396    2021-11-01 00:00:00+11:00                 1  \n",
       "       2021-11-01 00:05:00+11:00                 1  \n",
       "       2021-11-01 00:10:00+11:00                 1  \n",
       "       2021-11-01 00:15:00+11:00                 1  \n",
       "       2021-11-01 00:20:00+11:00                 1  \n",
       "...                                            ...  \n",
       "792189 2021-11-29 23:35:00+11:00                 1  \n",
       "       2021-11-29 23:40:00+11:00                 1  \n",
       "       2021-11-29 23:45:00+11:00                 1  \n",
       "       2021-11-29 23:50:00+11:00                 1  \n",
       "       2021-11-29 23:55:00+11:00                 1  \n",
       "\n",
       "[8067436 rows x 4 columns]"
      ]
     },
     "execution_count": 46,
     "metadata": {},
     "output_type": "execute_result"
    }
   ],
   "source": [
    "df_power_quality_app01.query(\"number_of_phases == 3 | channel_cd == 'a'\")\\\n",
    "    .reset_index().groupby(['meter', 'time'])\\\n",
    "        .aggregate({\n",
    "            'amps': 'sum',\n",
    "            'voltage_lvt': 'mean',\n",
    "            'power_factor_pf': 'mean',\n",
    "            'number_of_phases': 'first',\n",
    "            \n",
    "        })"
   ]
  },
  {
   "cell_type": "code",
   "execution_count": null,
   "metadata": {},
   "outputs": [],
   "source": []
  },
  {
   "cell_type": "markdown",
   "metadata": {},
   "source": [
    "# Others"
   ]
  },
  {
   "cell_type": "code",
   "execution_count": null,
   "metadata": {},
   "outputs": [],
   "source": [
    "df_merged_hanna = pd.read_csv(r'C:\\Users\\khalil\\LocalDrive\\ev_consume_quality.csv')\n",
    "df_merged_hanna.head()"
   ]
  }
 ],
 "metadata": {
  "interpreter": {
   "hash": "ea1c9167d144f2d815f36a1c1023612c67534e34fbd81c0d3d6424e3859904be"
  },
  "kernelspec": {
   "display_name": "Python 3 (ipykernel)",
   "language": "python",
   "name": "python3"
  },
  "language_info": {
   "codemirror_mode": {
    "name": "ipython",
    "version": 3
   },
   "file_extension": ".py",
   "mimetype": "text/x-python",
   "name": "python",
   "nbconvert_exporter": "python",
   "pygments_lexer": "ipython3",
   "version": "3.10.2"
  }
 },
 "nbformat": 4,
 "nbformat_minor": 4
}

{
 "cells": [
  {
   "cell_type": "markdown",
   "metadata": {},
   "source": [
    "<h2> Preliminary - importing necessary libraries (packages) </h2>"
   ]
  },
  {
   "cell_type": "code",
   "execution_count": 23,
   "metadata": {
    "jupyter": {
     "source_hidden": true
    }
   },
   "outputs": [],
   "source": [
    "import glob\n",
    "\n",
    "import matplotlib.dates as mdates\n",
    "import matplotlib.pyplot as plt\n",
    "import numpy as np\n",
    "import pandas as pd\n",
    "import seaborn as sns\n",
    "from dateutil import tz\n",
    "\n",
    "data_directory = '../../RawFiles'\n",
    "melbourne_tz = tz.gettz('Australia/Melbourne')\n",
    "\n",
    "sns.set()\n",
    "\n",
    "pd.set_option('display.max_rows', 1000)\n",
    "pd.set_option('display.max_colwidth', 100)\n",
    "\n",
    "\n",
    "class display(object):\n",
    "    \"\"\"Display HTML representation of multiple objects\"\"\"\n",
    "    template = \"\"\"<div style=\"float: left; padding: 10px;\">\n",
    "    <p style='font-family:\"Courier New\", Courier, monospace'>{0}</p>{1}\n",
    "    </div>\"\"\"\n",
    "\n",
    "    def __init__(self, *args):\n",
    "        self.args = args\n",
    "\n",
    "    def _repr_html_(self):\n",
    "        return '\\n'.join(self.template.format(a, eval(a)._repr_html_())\n",
    "                         for a in self.args)\n",
    "\n",
    "    def __repr__(self):\n",
    "        return '\\n\\n'.join(a + '\\n' + repr(eval(a))\n",
    "                           for a in self.args)\n",
    "\n"
   ]
  },
  {
   "cell_type": "markdown",
   "metadata": {},
   "source": [
    "<h2> Merging datasets </h2>\n",
    "(note, loaded data from November 2021 as data is quite big and cannot be loaded at once)"
   ]
  },
  {
   "cell_type": "code",
   "execution_count": 24,
   "metadata": {
    "jupyter": {
     "source_hidden": true
    }
   },
   "outputs": [],
   "source": [
    "def append_csvs_into_df(file_pattern: str, ignore_index: bool = True, sort: bool = False):\n",
    "    data_frames = []\n",
    "    for file in glob.glob(file_pattern):\n",
    "        print(f'loading: {file}')\n",
    "        data_frames.append(pd.read_csv(file))\n",
    "    full_dataset = pd.concat(data_frames, ignore_index=ignore_index, sort=sort)\n",
    "    return full_dataset\n",
    "\n",
    "\n",
    "def simple_col_name(x):\n",
    "    x = x.lower().strip()\n",
    "    return {'meter_id': 'meter',\n",
    "            'start_timestamptz_ts': 'time',\n",
    "            'interval_ts': 'time',\n",
    "            'active_consumption_kwh': 'consumption',\n",
    "            'active_generation_kwh': 'generation',\n",
    "            'ev make': 'make',\n",
    "            'ev model': 'model',\n",
    "            \"amps_lct\": 'amps',\n",
    "            'ev wall charger installed?': 'charger',\n",
    "            'how many kms do you usually drive each year? \\n(prior to the covid-19 pandemic)': 'drive_kms'\n",
    "            }.setdefault(x, x)\n",
    "\n"
   ]
  },
  {
   "cell_type": "markdown",
   "metadata": {},
   "source": [
    "<li> EV Meters list (those who have EV) </li>"
   ]
  },
  {
   "cell_type": "code",
   "execution_count": 25,
   "metadata": {
    "jupyter": {
     "source_hidden": true
    }
   },
   "outputs": [
    {
     "data": {
      "text/html": [
       "<div>\n",
       "<style scoped>\n",
       "    .dataframe tbody tr th:only-of-type {\n",
       "        vertical-align: middle;\n",
       "    }\n",
       "\n",
       "    .dataframe tbody tr th {\n",
       "        vertical-align: top;\n",
       "    }\n",
       "\n",
       "    .dataframe thead th {\n",
       "        text-align: right;\n",
       "    }\n",
       "</style>\n",
       "<table border=\"1\" class=\"dataframe\">\n",
       "  <thead>\n",
       "    <tr style=\"text-align: right;\">\n",
       "      <th></th>\n",
       "      <th>meter</th>\n",
       "      <th>make</th>\n",
       "      <th>model</th>\n",
       "      <th>charger</th>\n",
       "      <th>drive_kms</th>\n",
       "      <th>has_ev</th>\n",
       "    </tr>\n",
       "  </thead>\n",
       "  <tbody>\n",
       "    <tr>\n",
       "      <th>0</th>\n",
       "      <td>14702</td>\n",
       "      <td>Tesla</td>\n",
       "      <td>Model 3 and Model X</td>\n",
       "      <td>Yes</td>\n",
       "      <td>Greater than 20,000</td>\n",
       "      <td>1</td>\n",
       "    </tr>\n",
       "    <tr>\n",
       "      <th>1</th>\n",
       "      <td>21463</td>\n",
       "      <td>Nissan</td>\n",
       "      <td>Leaf</td>\n",
       "      <td>No</td>\n",
       "      <td>5,000 to 10,000</td>\n",
       "      <td>1</td>\n",
       "    </tr>\n",
       "    <tr>\n",
       "      <th>2</th>\n",
       "      <td>63317</td>\n",
       "      <td>Nissan</td>\n",
       "      <td>Leaf</td>\n",
       "      <td>No</td>\n",
       "      <td>5,000 to 10,000</td>\n",
       "      <td>1</td>\n",
       "    </tr>\n",
       "    <tr>\n",
       "      <th>3</th>\n",
       "      <td>69825</td>\n",
       "      <td>Jaguar</td>\n",
       "      <td>ipace</td>\n",
       "      <td>Yes</td>\n",
       "      <td>10,000 to 15,000</td>\n",
       "      <td>1</td>\n",
       "    </tr>\n",
       "    <tr>\n",
       "      <th>4</th>\n",
       "      <td>98536</td>\n",
       "      <td>Jaguar</td>\n",
       "      <td>ipace</td>\n",
       "      <td>No</td>\n",
       "      <td>15,000 to 20,000</td>\n",
       "      <td>1</td>\n",
       "    </tr>\n",
       "  </tbody>\n",
       "</table>\n",
       "</div>"
      ],
      "text/plain": [
       "   meter     make                model charger            drive_kms  has_ev\n",
       "0  14702    Tesla  Model 3 and Model X     Yes  Greater than 20,000       1\n",
       "1  21463   Nissan                 Leaf      No      5,000 to 10,000       1\n",
       "2  63317  Nissan                  Leaf      No      5,000 to 10,000       1\n",
       "3  69825  Jaguar                 ipace     Yes     10,000 to 15,000       1\n",
       "4  98536   Jaguar                ipace      No     15,000 to 20,000       1"
      ]
     },
     "execution_count": 25,
     "metadata": {},
     "output_type": "execute_result"
    }
   ],
   "source": [
    "df_with_ev = pd.read_excel(f'{data_directory}/EV_training_meters_list.xlsx').rename(columns=simple_col_name).drop(columns=['kms_group'])\n",
    "meters_with_ev = df_with_ev['meter'].to_list()\n",
    "df_with_ev['has_ev'] = 1\n",
    "df_with_ev.head()\n"
   ]
  },
  {
   "cell_type": "markdown",
   "metadata": {},
   "source": [
    "<li> Consumption </li>"
   ]
  },
  {
   "cell_type": "code",
   "execution_count": 26,
   "metadata": {
    "jupyter": {
     "source_hidden": true
    }
   },
   "outputs": [
    {
     "name": "stdout",
     "output_type": "stream",
     "text": [
      "loading: ../../RawFiles\\consumption_training_data_nov21.csv\n"
     ]
    },
    {
     "data": {
      "text/html": [
       "<div>\n",
       "<style scoped>\n",
       "    .dataframe tbody tr th:only-of-type {\n",
       "        vertical-align: middle;\n",
       "    }\n",
       "\n",
       "    .dataframe tbody tr th {\n",
       "        vertical-align: top;\n",
       "    }\n",
       "\n",
       "    .dataframe thead th {\n",
       "        text-align: right;\n",
       "    }\n",
       "</style>\n",
       "<table border=\"1\" class=\"dataframe\">\n",
       "  <thead>\n",
       "    <tr style=\"text-align: right;\">\n",
       "      <th></th>\n",
       "      <th></th>\n",
       "      <th>element_uuid</th>\n",
       "      <th>consumption</th>\n",
       "      <th>generation</th>\n",
       "      <th>total_consumption</th>\n",
       "      <th>make</th>\n",
       "      <th>model</th>\n",
       "      <th>charger</th>\n",
       "      <th>drive_kms</th>\n",
       "      <th>has_ev</th>\n",
       "    </tr>\n",
       "    <tr>\n",
       "      <th>meter</th>\n",
       "      <th>time</th>\n",
       "      <th></th>\n",
       "      <th></th>\n",
       "      <th></th>\n",
       "      <th></th>\n",
       "      <th></th>\n",
       "      <th></th>\n",
       "      <th></th>\n",
       "      <th></th>\n",
       "      <th></th>\n",
       "    </tr>\n",
       "  </thead>\n",
       "  <tbody>\n",
       "    <tr>\n",
       "      <th rowspan=\"5\" valign=\"top\">396</th>\n",
       "      <th>2021-11-01 11:00:00+11:00</th>\n",
       "      <td>0a6acd53-80f8-4fef-91d0-63b56ff213c5</td>\n",
       "      <td>0.0437</td>\n",
       "      <td>NaN</td>\n",
       "      <td>0.0437</td>\n",
       "      <td>NaN</td>\n",
       "      <td>NaN</td>\n",
       "      <td>NaN</td>\n",
       "      <td>NaN</td>\n",
       "      <td>NaN</td>\n",
       "    </tr>\n",
       "    <tr>\n",
       "      <th>2021-11-01 11:30:00+11:00</th>\n",
       "      <td>0a6acd53-80f8-4fef-91d0-63b56ff213c5</td>\n",
       "      <td>0.0750</td>\n",
       "      <td>NaN</td>\n",
       "      <td>0.0750</td>\n",
       "      <td>NaN</td>\n",
       "      <td>NaN</td>\n",
       "      <td>NaN</td>\n",
       "      <td>NaN</td>\n",
       "      <td>NaN</td>\n",
       "    </tr>\n",
       "    <tr>\n",
       "      <th>2021-11-01 12:00:00+11:00</th>\n",
       "      <td>0a6acd53-80f8-4fef-91d0-63b56ff213c5</td>\n",
       "      <td>0.1187</td>\n",
       "      <td>NaN</td>\n",
       "      <td>0.1187</td>\n",
       "      <td>NaN</td>\n",
       "      <td>NaN</td>\n",
       "      <td>NaN</td>\n",
       "      <td>NaN</td>\n",
       "      <td>NaN</td>\n",
       "    </tr>\n",
       "    <tr>\n",
       "      <th>2021-11-01 12:30:00+11:00</th>\n",
       "      <td>0a6acd53-80f8-4fef-91d0-63b56ff213c5</td>\n",
       "      <td>0.0562</td>\n",
       "      <td>NaN</td>\n",
       "      <td>0.0562</td>\n",
       "      <td>NaN</td>\n",
       "      <td>NaN</td>\n",
       "      <td>NaN</td>\n",
       "      <td>NaN</td>\n",
       "      <td>NaN</td>\n",
       "    </tr>\n",
       "    <tr>\n",
       "      <th>2021-11-01 13:00:00+11:00</th>\n",
       "      <td>0a6acd53-80f8-4fef-91d0-63b56ff213c5</td>\n",
       "      <td>0.0437</td>\n",
       "      <td>NaN</td>\n",
       "      <td>0.0437</td>\n",
       "      <td>NaN</td>\n",
       "      <td>NaN</td>\n",
       "      <td>NaN</td>\n",
       "      <td>NaN</td>\n",
       "      <td>NaN</td>\n",
       "    </tr>\n",
       "  </tbody>\n",
       "</table>\n",
       "</div>"
      ],
      "text/plain": [
       "                                                         element_uuid  \\\n",
       "meter time                                                              \n",
       "396   2021-11-01 11:00:00+11:00  0a6acd53-80f8-4fef-91d0-63b56ff213c5   \n",
       "      2021-11-01 11:30:00+11:00  0a6acd53-80f8-4fef-91d0-63b56ff213c5   \n",
       "      2021-11-01 12:00:00+11:00  0a6acd53-80f8-4fef-91d0-63b56ff213c5   \n",
       "      2021-11-01 12:30:00+11:00  0a6acd53-80f8-4fef-91d0-63b56ff213c5   \n",
       "      2021-11-01 13:00:00+11:00  0a6acd53-80f8-4fef-91d0-63b56ff213c5   \n",
       "\n",
       "                                 consumption  generation  total_consumption  \\\n",
       "meter time                                                                    \n",
       "396   2021-11-01 11:00:00+11:00       0.0437         NaN             0.0437   \n",
       "      2021-11-01 11:30:00+11:00       0.0750         NaN             0.0750   \n",
       "      2021-11-01 12:00:00+11:00       0.1187         NaN             0.1187   \n",
       "      2021-11-01 12:30:00+11:00       0.0562         NaN             0.0562   \n",
       "      2021-11-01 13:00:00+11:00       0.0437         NaN             0.0437   \n",
       "\n",
       "                                make model charger drive_kms  has_ev  \n",
       "meter time                                                            \n",
       "396   2021-11-01 11:00:00+11:00  NaN   NaN     NaN       NaN     NaN  \n",
       "      2021-11-01 11:30:00+11:00  NaN   NaN     NaN       NaN     NaN  \n",
       "      2021-11-01 12:00:00+11:00  NaN   NaN     NaN       NaN     NaN  \n",
       "      2021-11-01 12:30:00+11:00  NaN   NaN     NaN       NaN     NaN  \n",
       "      2021-11-01 13:00:00+11:00  NaN   NaN     NaN       NaN     NaN  "
      ]
     },
     "execution_count": 26,
     "metadata": {},
     "output_type": "execute_result"
    }
   ],
   "source": [
    "# append & rename\n",
    "df_consumption = append_csvs_into_df(f\"{data_directory}/*consumption*nov*21*csv\").drop(['Unnamed: 0'], axis=1).rename(\n",
    "    columns=simple_col_name)\n",
    "# dates\n",
    "df_consumption['time'] = pd.to_datetime(df_consumption['time'], infer_datetime_format=True, utc=True).dt.tz_convert(\n",
    "    melbourne_tz)\n",
    "df_consumption['total_consumption'] = df_consumption[['consumption', 'generation']].sum(axis=1, skipna=True)\n",
    "# merge with known EVs\n",
    "df_consumption = pd.merge(left=df_consumption, right=df_with_ev, on='meter', how='outer')\n",
    "# needed later\n",
    "meters_with_no_ev = list(set(df_consumption['meter'].unique().tolist()) - set(meters_with_ev))\n",
    "# index\n",
    "df_consumption = df_consumption.set_index(['meter', 'time']).sort_index()\n",
    "## skip for now\n",
    "# .drop_duplicates(subset=['meter', 'time'], keep=False).drop('element_uuid', axis=1)\\\n",
    "# .set_index(['time'])\\\n",
    "# .groupby('meter')\\\n",
    "# .resample('5T', closed='right', label='right')\\\n",
    "# .ffill().drop('meter', axis=1)\n",
    "df_consumption.head()\n"
   ]
  },
  {
   "cell_type": "markdown",
   "metadata": {},
   "source": [
    "<li> Power quality </li>"
   ]
  },
  {
   "cell_type": "code",
   "execution_count": 27,
   "metadata": {
    "jupyter": {
     "source_hidden": true
    }
   },
   "outputs": [
    {
     "name": "stdout",
     "output_type": "stream",
     "text": [
      "loading: ../../RawFiles\\power_quality_training_data_nov21.csv\n"
     ]
    },
    {
     "data": {
      "text/html": [
       "<div>\n",
       "<style scoped>\n",
       "    .dataframe tbody tr th:only-of-type {\n",
       "        vertical-align: middle;\n",
       "    }\n",
       "\n",
       "    .dataframe tbody tr th {\n",
       "        vertical-align: top;\n",
       "    }\n",
       "\n",
       "    .dataframe thead th {\n",
       "        text-align: right;\n",
       "    }\n",
       "</style>\n",
       "<table border=\"1\" class=\"dataframe\">\n",
       "  <thead>\n",
       "    <tr style=\"text-align: right;\">\n",
       "      <th></th>\n",
       "      <th></th>\n",
       "      <th>channel_cd</th>\n",
       "      <th>voltage_lvt</th>\n",
       "      <th>amps</th>\n",
       "      <th>power_factor_pf</th>\n",
       "      <th>number_of_phases</th>\n",
       "      <th>overground_or_underground</th>\n",
       "      <th>make</th>\n",
       "      <th>model</th>\n",
       "      <th>charger</th>\n",
       "      <th>drive_kms</th>\n",
       "      <th>has_ev</th>\n",
       "    </tr>\n",
       "    <tr>\n",
       "      <th>meter</th>\n",
       "      <th>time</th>\n",
       "      <th></th>\n",
       "      <th></th>\n",
       "      <th></th>\n",
       "      <th></th>\n",
       "      <th></th>\n",
       "      <th></th>\n",
       "      <th></th>\n",
       "      <th></th>\n",
       "      <th></th>\n",
       "      <th></th>\n",
       "      <th></th>\n",
       "    </tr>\n",
       "  </thead>\n",
       "  <tbody>\n",
       "    <tr>\n",
       "      <th rowspan=\"5\" valign=\"top\">396</th>\n",
       "      <th>2021-11-01 00:00:00+11:00</th>\n",
       "      <td>a</td>\n",
       "      <td>242.47</td>\n",
       "      <td>0.344000</td>\n",
       "      <td>1.000</td>\n",
       "      <td>1</td>\n",
       "      <td>OH</td>\n",
       "      <td>NaN</td>\n",
       "      <td>NaN</td>\n",
       "      <td>NaN</td>\n",
       "      <td>NaN</td>\n",
       "      <td>NaN</td>\n",
       "    </tr>\n",
       "    <tr>\n",
       "      <th>2021-11-01 00:05:00+11:00</th>\n",
       "      <td>a</td>\n",
       "      <td>244.95</td>\n",
       "      <td>0.335175</td>\n",
       "      <td>-0.543</td>\n",
       "      <td>1</td>\n",
       "      <td>OH</td>\n",
       "      <td>NaN</td>\n",
       "      <td>NaN</td>\n",
       "      <td>NaN</td>\n",
       "      <td>NaN</td>\n",
       "      <td>NaN</td>\n",
       "    </tr>\n",
       "    <tr>\n",
       "      <th>2021-11-01 00:10:00+11:00</th>\n",
       "      <td>a</td>\n",
       "      <td>243.59</td>\n",
       "      <td>0.331522</td>\n",
       "      <td>-0.552</td>\n",
       "      <td>1</td>\n",
       "      <td>OH</td>\n",
       "      <td>NaN</td>\n",
       "      <td>NaN</td>\n",
       "      <td>NaN</td>\n",
       "      <td>NaN</td>\n",
       "      <td>NaN</td>\n",
       "    </tr>\n",
       "    <tr>\n",
       "      <th>2021-11-01 00:15:00+11:00</th>\n",
       "      <td>a</td>\n",
       "      <td>244.58</td>\n",
       "      <td>0.566290</td>\n",
       "      <td>-0.973</td>\n",
       "      <td>1</td>\n",
       "      <td>OH</td>\n",
       "      <td>NaN</td>\n",
       "      <td>NaN</td>\n",
       "      <td>NaN</td>\n",
       "      <td>NaN</td>\n",
       "      <td>NaN</td>\n",
       "    </tr>\n",
       "    <tr>\n",
       "      <th>2021-11-01 00:20:00+11:00</th>\n",
       "      <td>a</td>\n",
       "      <td>245.43</td>\n",
       "      <td>0.540289</td>\n",
       "      <td>-0.968</td>\n",
       "      <td>1</td>\n",
       "      <td>OH</td>\n",
       "      <td>NaN</td>\n",
       "      <td>NaN</td>\n",
       "      <td>NaN</td>\n",
       "      <td>NaN</td>\n",
       "      <td>NaN</td>\n",
       "    </tr>\n",
       "  </tbody>\n",
       "</table>\n",
       "</div>"
      ],
      "text/plain": [
       "                                channel_cd  voltage_lvt      amps  \\\n",
       "meter time                                                          \n",
       "396   2021-11-01 00:00:00+11:00          a       242.47  0.344000   \n",
       "      2021-11-01 00:05:00+11:00          a       244.95  0.335175   \n",
       "      2021-11-01 00:10:00+11:00          a       243.59  0.331522   \n",
       "      2021-11-01 00:15:00+11:00          a       244.58  0.566290   \n",
       "      2021-11-01 00:20:00+11:00          a       245.43  0.540289   \n",
       "\n",
       "                                 power_factor_pf  number_of_phases  \\\n",
       "meter time                                                           \n",
       "396   2021-11-01 00:00:00+11:00            1.000                 1   \n",
       "      2021-11-01 00:05:00+11:00           -0.543                 1   \n",
       "      2021-11-01 00:10:00+11:00           -0.552                 1   \n",
       "      2021-11-01 00:15:00+11:00           -0.973                 1   \n",
       "      2021-11-01 00:20:00+11:00           -0.968                 1   \n",
       "\n",
       "                                overground_or_underground make model charger  \\\n",
       "meter time                                                                     \n",
       "396   2021-11-01 00:00:00+11:00                        OH  NaN   NaN     NaN   \n",
       "      2021-11-01 00:05:00+11:00                        OH  NaN   NaN     NaN   \n",
       "      2021-11-01 00:10:00+11:00                        OH  NaN   NaN     NaN   \n",
       "      2021-11-01 00:15:00+11:00                        OH  NaN   NaN     NaN   \n",
       "      2021-11-01 00:20:00+11:00                        OH  NaN   NaN     NaN   \n",
       "\n",
       "                                drive_kms  has_ev  \n",
       "meter time                                         \n",
       "396   2021-11-01 00:00:00+11:00       NaN     NaN  \n",
       "      2021-11-01 00:05:00+11:00       NaN     NaN  \n",
       "      2021-11-01 00:10:00+11:00       NaN     NaN  \n",
       "      2021-11-01 00:15:00+11:00       NaN     NaN  \n",
       "      2021-11-01 00:20:00+11:00       NaN     NaN  "
      ]
     },
     "execution_count": 27,
     "metadata": {},
     "output_type": "execute_result"
    }
   ],
   "source": [
    "# power quality datasets\n",
    "# append & rename\n",
    "df_power_quality = append_csvs_into_df(f\"{data_directory}/*power_quality*nov*21*csv\").drop(['Unnamed: 0'],\n",
    "                                                                                           axis=1).rename(\n",
    "    columns=simple_col_name)\n",
    "# proper types\n",
    "df_power_quality['time'] = pd.to_datetime(df_power_quality['time'], infer_datetime_format=True, utc=True).dt.tz_convert(\n",
    "    melbourne_tz)\n",
    "obj_columns = df_power_quality.select_dtypes(include='object').columns\n",
    "df_power_quality[obj_columns] = df_power_quality[obj_columns].astype('category')\n",
    "# merge with known EVs\n",
    "df_power_quality = pd.merge(left=df_power_quality, right=df_with_ev, on='meter', how='outer')\n",
    "# index\n",
    "df_power_quality = df_power_quality.set_index(['meter', 'time']).sort_index()\n",
    "df_power_quality.head()\n"
   ]
  },
  {
   "cell_type": "markdown",
   "metadata": {},
   "source": [
    "<li> Combining all together </li>\n",
    "(note: it may take several minutes)"
   ]
  },
  {
   "cell_type": "markdown",
   "metadata": {},
   "source": [
    "<h2> Graphical Analysis </h2>"
   ]
  },
  {
   "cell_type": "markdown",
   "metadata": {},
   "source": [
    "<li> Helper functions </li>"
   ]
  },
  {
   "cell_type": "code",
   "execution_count": 20,
   "metadata": {
    "jupyter": {
     "source_hidden": true
    },
    "pycharm": {
     "name": "#%%\n"
    }
   },
   "outputs": [],
   "source": [
    "\n",
    "def subset_by_meter(meter_id: int, start: str, end: str, cols=None):\n",
    "    # ensure start and end dates are within dataset range\n",
    "    cols = cols or ['consumption', 'amps']\n",
    "    min_date, max_date = df_consumption.reset_index()['time'][[0, len(df_consumption) - 1]]\n",
    "    start = max(pd.to_datetime(start).tz_localize(melbourne_tz), min_date)\n",
    "    end = min(pd.to_datetime(end).tz_localize(melbourne_tz), max_date)\n",
    "    df1 = df_consumption.loc[pd.IndexSlice[meter_id, start:end], :].droplevel('meter')\n",
    "    df2 = df_power_quality.loc[pd.IndexSlice[meter_id, start:end], :].droplevel('meter')\n",
    "    return pd.merge(left=df1, right=df2, left_index=True, right_index=True, how='left')[cols]\n",
    "\n",
    "\n",
    "def plot_subplots_common_x(meter_data, hours_interval: int | None = None) -> None:\n",
    "    fig, axes = plt.subplots(2, 1, figsize=(30, 12))\n",
    "    # plot at a time\n",
    "    for col, ax in zip(meter_data.columns, axes):\n",
    "        meter_data[col].plot(ax=ax, subplots=True, x_compat=True)\n",
    "        ax.set_title(col.title())\n",
    "        ax.set_xlabel(\"\")\n",
    "        # X axis labels\n",
    "        date_locator = mdates.DayLocator(interval=1)\n",
    "        date_form = mdates.DateFormatter(\"%m-%d\")\n",
    "        ax.xaxis.grid(True, which='major', color='gray')\n",
    "        ax.xaxis.set_major_locator(date_locator)\n",
    "        ax.xaxis.set_major_formatter(date_form)\n",
    "        ax.tick_params(axis='x', which='major', pad=20)\n",
    "        if hours_interval is not None:\n",
    "            hour_locator = mdates.HourLocator(interval=hours_interval)\n",
    "            hour_form = mdates.DateFormatter(\"%H\")\n",
    "            ax.xaxis.set_minor_locator(hour_locator)\n",
    "            ax.xaxis.set_minor_formatter(hour_form)\n",
    "\n",
    "def plot_consumption_amps(meter, start='2021-11-15', end='2021-11-30', hours_interval=12, verbose=True):\n",
    "    meter_data = subset_by_meter(meter_id=meter, start=start, end=end)\n",
    "    if verbose:\n",
    "        meter_info = df_with_ev[df_with_ev['meter'] == meter]\n",
    "        if not meter_info.empty:\n",
    "            print(meter_info)\n",
    "        else:\n",
    "            print('meter has no EV')\n",
    "    \n",
    "    fig = plot_subplots_common_x(meter_data, hours_interval=hours_interval)\n"
   ]
  },
  {
   "cell_type": "markdown",
   "metadata": {},
   "source": [
    "<h3> Consumption and current for meters with EV between 15th and 30th November 2021 </h3>"
   ]
  },
  {
   "cell_type": "code",
   "execution_count": 21,
   "metadata": {
    "tags": []
   },
   "outputs": [
    {
     "name": "stdout",
     "output_type": "stream",
     "text": [
      "   meter   make                model charger            drive_kms  has_ev\n",
      "0  14702  Tesla  Model 3 and Model X     Yes  Greater than 20,000       1\n"
     ]
    },
    {
     "data": {
      "image/png": "[encoded data removed]",
      "text/plain": [
       "<Figure size 2160x864 with 2 Axes>"
      ]
     },
     "metadata": {},
     "output_type": "display_data"
    },
    {
     "data": {
      "image/png": "[encoded data removed]",
      "text/plain": [
       "<Figure size 2160x864 with 2 Axes>"
      ]
     },
     "metadata": {},
     "output_type": "display_data"
    }
   ],
   "source": [
    "plot_consumption_amps(meter=meters_with_ev[0])\n",
    "## example of customized plot\n",
    "plot_consumption_amps(meter=meters_with_ev[0], start='2021-11-15', end='2021-11-17', hours_interval=6, verbose=False)"
   ]
  },
  {
   "cell_type": "code",
   "execution_count": 22,
   "metadata": {
    "jupyter": {
     "source_hidden": true
    }
   },
   "outputs": [
    {
     "name": "stdout",
     "output_type": "stream",
     "text": [
      "   meter    make model charger        drive_kms  has_ev\n",
      "1  21463  Nissan  Leaf      No  5,000 to 10,000       1\n"
     ]
    },
    {
     "data": {
      "image/png": "[encoded data removed]",
      "text/plain": [
       "<Figure size 2160x864 with 2 Axes>"
      ]
     },
     "metadata": {},
     "output_type": "display_data"
    }
   ],
   "source": [
    "plot_consumption_amps(meter=meters_with_ev[1])"
   ]
  },
  {
   "cell_type": "code",
   "execution_count": null,
   "metadata": {
    "jupyter": {
     "source_hidden": true
    }
   },
   "outputs": [],
   "source": [
    "plot_consumption_amps(meters_with_ev[2])\n",
    "plot_consumption_amps(meters_with_ev[2], start='2021-11-23', end='2021-11-26')"
   ]
  },
  {
   "cell_type": "code",
   "execution_count": null,
   "metadata": {
    "jupyter": {
     "source_hidden": true
    }
   },
   "outputs": [],
   "source": [
    "\n",
    "plot_consumption_amps(meters_with_ev[3])"
   ]
  },
  {
   "cell_type": "code",
   "execution_count": null,
   "metadata": {
    "jupyter": {
     "source_hidden": true
    }
   },
   "outputs": [],
   "source": [
    "plot_consumption_amps(meters_with_ev[4])"
   ]
  },
  {
   "cell_type": "code",
   "execution_count": null,
   "metadata": {
    "jupyter": {
     "source_hidden": true
    }
   },
   "outputs": [],
   "source": [
    "plot_consumption_amps(meters_with_ev[5])"
   ]
  },
  {
   "cell_type": "code",
   "execution_count": null,
   "metadata": {
    "jupyter": {
     "source_hidden": true
    }
   },
   "outputs": [],
   "source": [
    "plot_consumption_amps(meters_with_ev[6])"
   ]
  },
  {
   "cell_type": "code",
   "execution_count": null,
   "metadata": {
    "jupyter": {
     "source_hidden": true
    }
   },
   "outputs": [],
   "source": [
    "plot_consumption_amps(meters_with_ev[7])"
   ]
  },
  {
   "cell_type": "code",
   "execution_count": null,
   "metadata": {
    "jupyter": {
     "source_hidden": true
    }
   },
   "outputs": [],
   "source": [
    "plot_consumption_amps(meters_with_ev[8])"
   ]
  },
  {
   "cell_type": "code",
   "execution_count": null,
   "metadata": {
    "jupyter": {
     "source_hidden": true
    }
   },
   "outputs": [],
   "source": [
    "plot_consumption_amps(meters_with_ev[9])"
   ]
  },
  {
   "cell_type": "code",
   "execution_count": null,
   "metadata": {
    "jupyter": {
     "source_hidden": true
    }
   },
   "outputs": [],
   "source": [
    "plot_consumption_amps(meters_with_ev[10])"
   ]
  },
  {
   "cell_type": "code",
   "execution_count": null,
   "metadata": {
    "jupyter": {
     "source_hidden": true
    }
   },
   "outputs": [],
   "source": [
    "plot_consumption_amps(meters_with_ev[11])"
   ]
  },
  {
   "cell_type": "code",
   "execution_count": null,
   "metadata": {
    "jupyter": {
     "source_hidden": true
    }
   },
   "outputs": [],
   "source": [
    "plot_consumption_amps(meters_with_ev[12])"
   ]
  },
  {
   "cell_type": "code",
   "execution_count": null,
   "metadata": {
    "jupyter": {
     "source_hidden": true
    }
   },
   "outputs": [],
   "source": [
    "plot_consumption_amps(meters_with_ev[13])"
   ]
  },
  {
   "cell_type": "code",
   "execution_count": null,
   "metadata": {
    "jupyter": {
     "source_hidden": true
    }
   },
   "outputs": [],
   "source": [
    "plot_consumption_amps(meters_with_ev[14])"
   ]
  },
  {
   "cell_type": "code",
   "execution_count": null,
   "metadata": {
    "jupyter": {
     "source_hidden": true
    }
   },
   "outputs": [],
   "source": [
    "plot_consumption_amps(meters_with_ev[15])"
   ]
  },
  {
   "cell_type": "markdown",
   "metadata": {},
   "source": [
    "\n",
    "<h3> No EV meters for same period as above </h3>"
   ]
  },
  {
   "cell_type": "code",
   "execution_count": null,
   "metadata": {
    "jupyter": {
     "source_hidden": true
    }
   },
   "outputs": [],
   "source": [
    "plot_consumption_amps(meters_with_no_ev[0])\n",
    "plot_consumption_amps(meters_with_no_ev[0], start='2021-11-15', end='2021-11-19')"
   ]
  },
  {
   "cell_type": "code",
   "execution_count": null,
   "metadata": {
    "jupyter": {
     "source_hidden": true
    }
   },
   "outputs": [],
   "source": [
    "plot_consumption_amps(meters_with_no_ev[1])"
   ]
  },
  {
   "cell_type": "code",
   "execution_count": null,
   "metadata": {
    "jupyter": {
     "source_hidden": true
    }
   },
   "outputs": [],
   "source": [
    "plot_consumption_amps(meters_with_no_ev[2])"
   ]
  },
  {
   "cell_type": "code",
   "execution_count": null,
   "metadata": {
    "jupyter": {
     "source_hidden": true
    }
   },
   "outputs": [],
   "source": [
    "plot_consumption_amps(meters_with_no_ev[3])"
   ]
  },
  {
   "cell_type": "code",
   "execution_count": null,
   "metadata": {
    "jupyter": {
     "source_hidden": true
    }
   },
   "outputs": [],
   "source": [
    "plot_consumption_amps(meters_with_no_ev[4])"
   ]
  },
  {
   "cell_type": "code",
   "execution_count": null,
   "metadata": {
    "jupyter": {
     "source_hidden": true
    }
   },
   "outputs": [],
   "source": [
    "plot_consumption_amps(meters_with_no_ev[5])"
   ]
  },
  {
   "cell_type": "code",
   "execution_count": null,
   "metadata": {
    "jupyter": {
     "source_hidden": true
    }
   },
   "outputs": [],
   "source": [
    "\n",
    "plot_consumption_amps(meters_with_no_ev[7])"
   ]
  },
  {
   "cell_type": "code",
   "execution_count": null,
   "metadata": {
    "jupyter": {
     "source_hidden": true
    }
   },
   "outputs": [],
   "source": [
    "plot_consumption_amps(meters_with_no_ev[8])"
   ]
  },
  {
   "cell_type": "code",
   "execution_count": null,
   "metadata": {
    "jupyter": {
     "source_hidden": true
    }
   },
   "outputs": [],
   "source": [
    "plot_consumption_amps(meters_with_no_ev[9])\n"
   ]
  },
  {
   "cell_type": "code",
   "execution_count": null,
   "metadata": {
    "jupyter": {
     "source_hidden": true
    }
   },
   "outputs": [],
   "source": [
    "plot_consumption_amps(meters_with_no_ev[10])"
   ]
  },
  {
   "cell_type": "code",
   "execution_count": null,
   "metadata": {
    "jupyter": {
     "source_hidden": true
    }
   },
   "outputs": [],
   "source": [
    "plot_consumption_amps(meters_with_no_ev[11])"
   ]
  },
  {
   "cell_type": "code",
   "execution_count": null,
   "metadata": {
    "jupyter": {
     "source_hidden": true
    }
   },
   "outputs": [],
   "source": [
    "plot_consumption_amps(meters_with_no_ev[12])"
   ]
  },
  {
   "cell_type": "code",
   "execution_count": null,
   "metadata": {
    "jupyter": {
     "source_hidden": true
    }
   },
   "outputs": [],
   "source": [
    "plot_consumption_amps(meters_with_no_ev[13])\n",
    "plot_consumption_amps(meters_with_no_ev[13], start='2021-11-20', end='2021-11-24', hours_interval=3)"
   ]
  },
  {
   "cell_type": "code",
   "execution_count": null,
   "metadata": {
    "jupyter": {
     "source_hidden": true
    }
   },
   "outputs": [],
   "source": [
    "plot_consumption_amps(meters_with_no_ev[14])"
   ]
  },
  {
   "cell_type": "code",
   "execution_count": null,
   "metadata": {
    "jupyter": {
     "source_hidden": true
    }
   },
   "outputs": [],
   "source": [
    "plot_consumption_amps(meters_with_no_ev[15])"
   ]
  },
  {
   "cell_type": "markdown",
   "metadata": {},
   "source": [
    "<h3> Ignore beyond here for now </h3>"
   ]
  },
  {
   "cell_type": "code",
   "execution_count": null,
   "metadata": {
    "jupyter": {
     "source_hidden": true
    }
   },
   "outputs": [],
   "source": [
    "# def plot_series_with_resamples(df, series, meter_id, start, end):\n",
    "#     data = df[['consumption', 'generation']].loc[(meter_id, start):(\n",
    "#         meter_id, end), series].droplevel(0)\n",
    "#     fig, ax = plt.subplots(figsize=(20, 8))\n",
    "#     ax.plot(data, marker='.', linestyle='-', linewidth=0.5, label='raw')\n",
    "#     ax.plot(data.resample('H').mean(), marker='o', linestyle='-',\n",
    "#             markersize=8, label='Hourly Mean Resample')\n",
    "#     ax.set_ylabel('consumption')\n",
    "#     ax.legend()\n",
    "\n",
    "\n",
    "# plot_series_with_resamples(df_full,\n",
    "#                            'consumption',\n",
    "#                            717681, '2021-11-03', '2021-11-09')\n"
   ]
  },
  {
   "cell_type": "markdown",
   "metadata": {},
   "source": [
    "<h2> Separate datasets (consumption and power quality) </h2>"
   ]
  },
  {
   "cell_type": "code",
   "execution_count": null,
   "metadata": {
    "jupyter": {
     "source_hidden": true
    }
   },
   "outputs": [],
   "source": [
    "df_consumption['has_ev'] = np.where(df_consumption['has_ev'].isna(), 0, 1)\n",
    "# for col in ['year', 'month', 'day', 'hour', 'minute']:\n",
    "#     df_consumption[col] = getattr(pd.DatetimeIndex(df_consumption['time']), col)\n",
    "df_consumption_analysis = df_consumption.drop(\n",
    "    columns=['generation', 'ev_make', 'ev_model', 'wallcharger', 'annual_km', 'annual_km_group',\n",
    "             'year', 'month', 'day', 'hour', 'minute'])\n",
    "df_consumption_analysis['identifier'] = df_consumption_analysis['meter'].astype('str') + df_consumption_analysis[\n",
    "    'element_uuid']\n",
    "df_consumption_analysis = df_consumption_analysis.drop(columns=['meter', 'element_uuid']).set_index(\n",
    "    ['identifier', 'time'])\n",
    "df_consumption_analysis.head()"
   ]
  },
  {
   "cell_type": "code",
   "execution_count": null,
   "metadata": {
    "jupyter": {
     "source_hidden": true
    }
   },
   "outputs": [],
   "source": [
    "import statsmodels.api as sm\n",
    "from linearmodels import PanelOLS\n",
    "\n",
    "exog = sm.tools.add_constant(df_consumption_analysis['consumption'])\n",
    "endog = df_consumption_analysis['has_ev']\n",
    "# fixed effects model\n",
    "model_fe = PanelOLS(endog, exog, entity_effects=True)\n",
    "fe_res = model_fe.fit()\n",
    "print(fe_res)"
   ]
  },
  {
   "cell_type": "code",
   "execution_count": null,
   "metadata": {
    "jupyter": {
     "source_hidden": true
    }
   },
   "outputs": [],
   "source": [
    "df_power_quality['has_ev'] = np.where(df_power_quality['has_ev'].isna(), 0, 1)\n",
    "# for col in ['year', 'month', 'day', 'hour', 'minute']:\n",
    "#     df_power_quality[col] = getattr(pd.DatetimeIndex(df_power_quality['time']), col)\n",
    "df_power_quality.drop(\n",
    "    columns=['overground_or_underground', 'ev_make', 'ev_model', 'wallcharger', 'annual_km', 'annual_km_group'],\n",
    "    inplace=True)\n",
    "df_power_quality['identifier'] = df_power_quality['meter'].astype('str') + df_power_quality['channel_cd']\n",
    "df_power_quality.drop(columns=['meter', 'channel_cs'], inpalce=True)\n",
    "df_power_quality.set_index(['identifier', 'time'], inplace=True)\n",
    "df_power_quality.head()"
   ]
  },
  {
   "cell_type": "code",
   "execution_count": null,
   "metadata": {
    "jupyter": {
     "source_hidden": true
    }
   },
   "outputs": [],
   "source": [
    "# import statsmodels.api as sm\n",
    "# from linearmodels import PanelOLS\n",
    "\n",
    "# exog = sm.tools.add_constant(df_power_quality['amps'])\n",
    "# exog = sm.tools.add_constant(df_power_quality['voltage_lvt'])\n",
    "# exog = sm.tools.add_constant(df_power_quality['power_factor_pf'])\n",
    "# exog = sm.tools.add_constant(df_power_quality['number_of_phases'])\n",
    "# endog = df_consumption_analysis['has_ev']\n",
    "# # fixed effects model\n",
    "# model_fe = PanelOLS(endog, exog, entity_effects=True)\n",
    "# fe_res = model_fe.fit()\n",
    "# print(fe_res)"
   ]
  },
  {
   "cell_type": "code",
   "execution_count": null,
   "metadata": {
    "jupyter": {
     "source_hidden": true
    }
   },
   "outputs": [],
   "source": []
  }
 ],
 "metadata": {
  "interpreter": {
   "hash": "ea1c9167d144f2d815f36a1c1023612c67534e34fbd81c0d3d6424e3859904be"
  },
  "kernelspec": {
   "display_name": "Python 3 (ipykernel)",
   "language": "python",
   "name": "python3"
  },
  "language_info": {
   "codemirror_mode": {
    "name": "ipython",
    "version": 3
   },
   "file_extension": ".py",
   "mimetype": "text/x-python",
   "name": "python",
   "nbconvert_exporter": "python",
   "pygments_lexer": "ipython3",
   "version": "3.10.2"
  }
 },
 "nbformat": 4,
 "nbformat_minor": 4
}
